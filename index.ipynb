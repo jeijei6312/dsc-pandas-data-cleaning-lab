{
 "cells": [
  {
   "cell_type": "markdown",
   "metadata": {},
   "source": [
    "# Pandas Data Cleaning - Cumulative Lab\n",
    "\n",
    "## Introduction\n",
    "In this lab, we'll make use of everything we've learned about pandas, data cleaning, and exploratory data analysis. In order to complete this lab, you'll have to import, clean, combine, reshape, and visualize data to answer questions provided, as well as your own questions!\n",
    "\n",
    "## Objectives\n",
    "You will be able to:\n",
    "- Practice opening and inspecting the contents of CSVs using pandas dataframes\n",
    "- Practice identifying and handling missing values\n",
    "- Practice identifying and handling invalid values\n",
    "- Practice cleaning text data by removing whitespace and fixing typos\n",
    "- Practice joining multiple dataframes"
   ]
  },
  {
   "cell_type": "markdown",
   "metadata": {},
   "source": [
    "## Your Task: Clean the Superheroes Dataset with Pandas\n",
    "\n",
    "![LEGO superheroes](images/lego_superheroes.jpg)\n",
    "\n",
    "Photo by <a href=\"https://unsplash.com/@yuliamatvienko?utm_source=unsplash&utm_medium=referral&utm_content=creditCopyText\">Yulia Matvienko</a> on <a href=\"/s/photos/superhero?utm_source=unsplash&utm_medium=referral&utm_content=creditCopyText\">Unsplash</a>"
   ]
  },
  {
   "cell_type": "markdown",
   "metadata": {},
   "source": [
    "### Data Understanding\n",
    "In this lab, we'll work with a version of the comprehensive Superheroes Dataset, which can be found on [Kaggle](https://www.kaggle.com/claudiodavi/superhero-set/data) and was originally scraped from [SuperHeroDb](https://www.superherodb.com/). We have modified the structure and contents of the dataset somewhat for the purposes of this lab.  Note that this data was collected in June 2017, so it may not reflect the most up-to-date superhero lore.\n",
    "\n",
    "The data is contained in two separate CSV files:\n",
    "\n",
    "1. `heroes_information.csv`: each record represents a superhero, with attributes of that superhero (e.g. eye color). Height is measured in centimeters, and weight is measured in pounds.\n",
    "2. `super_hero_powers.csv`: each record represents a superpower, then has True/False values representing whether each superhero has that power\n",
    "\n",
    "### Business Understanding\n",
    "\n",
    "The business questions you have been provided are:\n",
    "\n",
    "1. What is the distribution of superheroes by publisher?\n",
    "2. What is the relationship between height and number of superpowers? And does this differ based on gender?\n",
    "3. What are the 5 most common superpowers in Marvel Comics vs. DC Comics?\n",
    "\n",
    "This lab also simulates something you are likely to encounter at some point or another in your career in data science: someone has given you access to a dataset, as well as a few questions, and has told you to \"find something interesting\".\n",
    "\n",
    "So, in addition to completing the basic data cleaning tasks and the aggregation and reshaping tasks needed to answer the provided questions, you will also need to formulate a question of your own and perform any additional cleaning/aggregation/reshaping that is needed to answer it."
   ]
  },
  {
   "cell_type": "markdown",
   "metadata": {},
   "source": [
    "### Requirements\n",
    "\n",
    "#### 1. Load the Data with Pandas\n",
    "\n",
    "Create a dataframes `heroes_df` and `powers_df` that represent the two CSV files. Use pandas methods to inspect the shape and other attributes of these dataframes.\n",
    "\n",
    "#### 2. Perform Data Cleaning Required to Answer First Question\n",
    "\n",
    "The first question is: *What is the distribution of superheroes by publisher?*\n",
    "\n",
    "In order to answer this question, you will need to:\n",
    "\n",
    "* Identify and handle missing values\n",
    "* Identify and handle text data requiring cleaning\n",
    "\n",
    "#### 3. Perform Data Aggregation and Cleaning Required to Answer Second Question\n",
    "\n",
    "The second question is: *What is the relationship between height and number of superpowers? And does this differ based on gender?*\n",
    "\n",
    "In order to answer this question, you will need to:\n",
    "\n",
    "* Join the dataframes together\n",
    "* Identify and handle invalid values\n",
    "\n",
    "#### 4. Perform Data Aggregation Required to Answer Third Question\n",
    "\n",
    "The third question is: *What are the 5 most common superpowers in Marvel Comics vs. DC Comics?*\n",
    "\n",
    "This should not require any additional data cleaning or joining of tables, but it will require some additional aggregation.\n",
    "\n",
    "#### 5. Formulate and Answer Your Own Question\n",
    "\n",
    "This part is fairly open-ended. Think of a question that can be answered with the available data, and perform any cleaning or aggregation required to answer that question."
   ]
  },
  {
   "cell_type": "markdown",
   "metadata": {},
   "source": [
    "## 1. Load the Data with Pandas\n",
    "\n",
    "In the cell below, we:\n",
    "\n",
    "* Import and alias `pandas` as `pd`\n",
    "* Import and alias `numpy` as `np`\n",
    "* Import and alias `seaborn` as `sns`\n",
    "* Import and alias `matplotlib.pyplot` as `plt`\n",
    "* Set Matplotlib visualizations to display inline in the notebook"
   ]
  },
  {
   "cell_type": "code",
   "execution_count": 1,
   "metadata": {},
   "outputs": [],
   "source": [
    "# Run this cell without changes\n",
    "\n",
    "import pandas as pd\n",
    "import numpy as np\n",
    "import seaborn as sns\n",
    "import matplotlib.pyplot as plt\n",
    "\n",
    "%matplotlib inline"
   ]
  },
  {
   "cell_type": "markdown",
   "metadata": {},
   "source": [
    "### Superheroes\n",
    "\n",
    "In the cell below, load `heroes_information.csv` as `heroes_df`:"
   ]
  },
  {
   "cell_type": "code",
   "execution_count": 2,
   "metadata": {},
   "outputs": [
    {
     "name": "stdout",
     "output_type": "stream",
     "text": [
      "   Unnamed: 0         name Gender Eye color               Race Hair color  \\\n",
      "0           0       A-Bomb   Male    yellow              Human    No Hair   \n",
      "1           1   Abe Sapien   Male      blue      Icthyo Sapien    No Hair   \n",
      "2           2     Abin Sur   Male      blue            Ungaran    No Hair   \n",
      "3           3  Abomination   Male     green  Human / Radiation    No Hair   \n",
      "4           4      Abraxas   Male      blue      Cosmic Entity      Black   \n",
      "\n",
      "   Height          Publisher Skin color Alignment  Weight  \n",
      "0   203.0      Marvel Comics          -      good   441.0  \n",
      "1   191.0  Dark Horse Comics       blue      good    65.0  \n",
      "2   185.0          DC Comics        red      good    90.0  \n",
      "3   203.0      Marvel Comics          -       bad   441.0  \n",
      "4   -99.0      Marvel Comics          -       bad   -99.0  \n"
     ]
    }
   ],
   "source": [
    "# Your code here\n",
    "heroes_df = pd.read_csv('heroes_information.csv')\n",
    "print(heroes_df.head())"
   ]
  },
  {
   "cell_type": "markdown",
   "metadata": {},
   "source": [
    "It looks like that CSV came with an index column, resulting in an extra column called `Unnamed: 0`. We don't need that column, so write code to get rid of it below.\n",
    "\n",
    "There are two ways to do this:\n",
    "\n",
    "1. Re-load with `read_csv`, and specify the parameter `index_col=0`\n",
    "2. Drop the column `Unnamed: 0` with `axis=1`"
   ]
  },
  {
   "cell_type": "code",
   "execution_count": 3,
   "metadata": {},
   "outputs": [
    {
     "name": "stdout",
     "output_type": "stream",
     "text": [
      "          name Gender Eye color               Race Hair color  Height  \\\n",
      "0       A-Bomb   Male    yellow              Human    No Hair   203.0   \n",
      "1   Abe Sapien   Male      blue      Icthyo Sapien    No Hair   191.0   \n",
      "2     Abin Sur   Male      blue            Ungaran    No Hair   185.0   \n",
      "3  Abomination   Male     green  Human / Radiation    No Hair   203.0   \n",
      "4      Abraxas   Male      blue      Cosmic Entity      Black   -99.0   \n",
      "\n",
      "           Publisher Skin color Alignment  Weight  \n",
      "0      Marvel Comics          -      good   441.0  \n",
      "1  Dark Horse Comics       blue      good    65.0  \n",
      "2          DC Comics        red      good    90.0  \n",
      "3      Marvel Comics          -       bad   441.0  \n",
      "4      Marvel Comics          -       bad   -99.0  \n"
     ]
    }
   ],
   "source": [
    "# Your code here\n",
    "heroes_df = pd.read_csv('heroes_information.csv', index_col=0)\n",
    "\n",
    "print(heroes_df.head())"
   ]
  },
  {
   "cell_type": "markdown",
   "metadata": {},
   "source": [
    "The following code checks that the dataframe was loaded correctly."
   ]
  },
  {
   "cell_type": "code",
   "execution_count": 4,
   "metadata": {},
   "outputs": [],
   "source": [
    "# Run this cell without changes\n",
    "\n",
    "# There should be 734 rows\n",
    "assert heroes_df.shape[0] == 734\n",
    "\n",
    "# There should be 10 columns. If this fails, make sure you got rid of\n",
    "# the extra index column\n",
    "assert heroes_df.shape[1] == 10\n",
    "\n",
    "# These should be the columns\n",
    "assert list(heroes_df.columns) == [\n",
    "    \"name\",\n",
    "    \"Gender\",\n",
    "    \"Eye color\",\n",
    "    \"Race\",\n",
    "    \"Hair color\",\n",
    "    \"Height\",\n",
    "    \"Publisher\",\n",
    "    \"Skin color\",\n",
    "    \"Alignment\",\n",
    "    \"Weight\",\n",
    "]"
   ]
  },
  {
   "cell_type": "markdown",
   "metadata": {},
   "source": [
    "Now you want to get familiar with the data.  This step includes:\n",
    "\n",
    "* Understanding the dimensionality of your dataset\n",
    "* Investigating what type of data it contains, and the data types used to store it\n",
    "* Discovering how missing values are encoded, and how many there are\n",
    "* Getting a feel for what information it does and doesn't contain\n",
    "\n",
    "In the cell below, inspect the overall shape of the dataframe:"
   ]
  },
  {
   "cell_type": "code",
   "execution_count": 5,
   "metadata": {},
   "outputs": [
    {
     "name": "stdout",
     "output_type": "stream",
     "text": [
      "Shape of the DataFrame: (734, 10)\n"
     ]
    }
   ],
   "source": [
    "# Your code here\n",
    "print(\"Shape of the DataFrame:\", heroes_df.shape)"
   ]
  },
  {
   "cell_type": "markdown",
   "metadata": {},
   "source": [
    "Now let's look at the info printout:"
   ]
  },
  {
   "cell_type": "code",
   "execution_count": 6,
   "metadata": {},
   "outputs": [
    {
     "name": "stdout",
     "output_type": "stream",
     "text": [
      "<class 'pandas.core.frame.DataFrame'>\n",
      "Index: 734 entries, 0 to 733\n",
      "Data columns (total 10 columns):\n",
      " #   Column      Non-Null Count  Dtype  \n",
      "---  ------      --------------  -----  \n",
      " 0   name        734 non-null    object \n",
      " 1   Gender      734 non-null    object \n",
      " 2   Eye color   734 non-null    object \n",
      " 3   Race        734 non-null    object \n",
      " 4   Hair color  734 non-null    object \n",
      " 5   Height      734 non-null    float64\n",
      " 6   Publisher   719 non-null    object \n",
      " 7   Skin color  734 non-null    object \n",
      " 8   Alignment   734 non-null    object \n",
      " 9   Weight      732 non-null    float64\n",
      "dtypes: float64(2), object(8)\n",
      "memory usage: 63.1+ KB\n"
     ]
    }
   ],
   "source": [
    "# Run this cell without changes\n",
    "heroes_df.info()"
   ]
  },
  {
   "cell_type": "markdown",
   "metadata": {},
   "source": [
    "In the cell below, interpret that information. Do the data types line up with what we expect? Are there any missing values?"
   ]
  },
  {
   "cell_type": "code",
   "execution_count": 7,
   "metadata": {},
   "outputs": [
    {
     "data": {
      "text/plain": [
       "\"\\n **Data Types**:\\n   - The columns in the dataset include data types such as int64, float64, and object (strings).\\n   - For example:\\n     - Numerical columns (e.g., 'Height', 'Weight') are stored as int64 or float64, which aligns with our expectations.\\n     - Categorical columns (e.g., 'Gender', 'Alignment') are stored as objects, which is appropriate for string data.\\n   - Do the data types line up with what we expect? Yes, the data types seem appropriate for the kind of data they represent.\\n   \\nOverall, the dataset provides a good starting point for analysis, but we need to address missing values and verify the integrity of the data before proceeding with deeper analysis.\\n\""
      ]
     },
     "execution_count": 7,
     "metadata": {},
     "output_type": "execute_result"
    }
   ],
   "source": [
    "# Replace None with appropriate text\n",
    "\"\"\"\n",
    " **Data Types**:\n",
    "   - The columns in the dataset include data types such as int64, float64, and object (strings).\n",
    "   - For example:\n",
    "     - Numerical columns (e.g., 'Height', 'Weight') are stored as int64 or float64, which aligns with our expectations.\n",
    "     - Categorical columns (e.g., 'Gender', 'Alignment') are stored as objects, which is appropriate for string data.\n",
    "   - Do the data types line up with what we expect? Yes, the data types seem appropriate for the kind of data they represent.\n",
    "   \n",
    "Overall, the dataset provides a good starting point for analysis, but we need to address missing values and verify the integrity of the data before proceeding with deeper analysis.\n",
    "\"\"\""
   ]
  },
  {
   "cell_type": "markdown",
   "metadata": {},
   "source": [
    "### Superpowers\n",
    "\n",
    "Now, repeat the same process with `super_hero_powers.csv`. Name the dataframe `powers_df`. This time, make sure you use `index_col=0` when opening the CSV because the index contains important information."
   ]
  },
  {
   "cell_type": "code",
   "execution_count": 8,
   "metadata": {},
   "outputs": [
    {
     "name": "stdout",
     "output_type": "stream",
     "text": [
      "                       3-D Man  A-Bomb  Abe Sapien  Abin Sur  Abomination  \\\n",
      "Agility                   True   False        True     False        False   \n",
      "Accelerated Healing      False    True        True     False         True   \n",
      "Lantern Power Ring       False   False       False      True        False   \n",
      "Dimensional Awareness    False   False       False     False        False   \n",
      "Cold Resistance          False   False        True     False        False   \n",
      "\n",
      "                       Abraxas  Absorbing Man  Adam Monroe  Adam Strange  \\\n",
      "Agility                  False          False        False         False   \n",
      "Accelerated Healing      False          False         True         False   \n",
      "Lantern Power Ring       False          False        False         False   \n",
      "Dimensional Awareness     True          False        False         False   \n",
      "Cold Resistance          False           True        False         False   \n",
      "\n",
      "                       Agent Bob  ...  Wonder Man  Wonder Woman   X-23  X-Man  \\\n",
      "Agility                    False  ...       False         False   True  False   \n",
      "Accelerated Healing        False  ...       False          True   True  False   \n",
      "Lantern Power Ring         False  ...       False         False  False  False   \n",
      "Dimensional Awareness      False  ...       False         False  False  False   \n",
      "Cold Resistance            False  ...       False         False  False  False   \n",
      "\n",
      "                       Yellowjacket  Yellowjacket II   Ymir   Yoda  Zatanna  \\\n",
      "Agility                       False            False  False   True    False   \n",
      "Accelerated Healing           False            False  False  False    False   \n",
      "Lantern Power Ring            False            False  False  False    False   \n",
      "Dimensional Awareness         False            False  False  False    False   \n",
      "Cold Resistance               False            False   True  False    False   \n",
      "\n",
      "                        Zoom  \n",
      "Agility                False  \n",
      "Accelerated Healing    False  \n",
      "Lantern Power Ring     False  \n",
      "Dimensional Awareness  False  \n",
      "Cold Resistance        False  \n",
      "\n",
      "[5 rows x 667 columns]\n"
     ]
    }
   ],
   "source": [
    "# Your code here (create more cells as needed)\n",
    "powers_df = pd.read_csv('super_hero_powers.csv', index_col=0)\n",
    "print(powers_df.head())"
   ]
  },
  {
   "cell_type": "markdown",
   "metadata": {},
   "source": [
    "The following code will check if it was loaded correctly:"
   ]
  },
  {
   "cell_type": "code",
   "execution_count": 9,
   "metadata": {},
   "outputs": [],
   "source": [
    "# Run this cell without changes\n",
    "\n",
    "# There should be 167 rows, 667 columns\n",
    "assert powers_df.shape == (167, 667)\n",
    "\n",
    "# The first column should be '3-D Man'\n",
    "assert powers_df.columns[0] == \"3-D Man\"\n",
    "\n",
    "# The last column should be 'Zoom'\n",
    "assert powers_df.columns[-1] == \"Zoom\"\n",
    "\n",
    "# The first index should be 'Agility'\n",
    "assert powers_df.index[0] == \"Agility\"\n",
    "\n",
    "# The last index should be 'Omniscient'\n",
    "assert powers_df.index[-1] == \"Omniscient\""
   ]
  },
  {
   "cell_type": "markdown",
   "metadata": {},
   "source": [
    "## 2. Perform Data Cleaning Required to Answer First Question\n",
    "\n",
    "Recall that the first question is: *What is the distribution of superheroes by publisher?*\n",
    "\n",
    "To answer this question, we will only need to use `heroes_df`, which contains the `Publisher` column.\n",
    "\n",
    "### Identifying and Handling Missing Values\n",
    "\n",
    "As you likely noted above, the `Publisher` column is missing some values. Let's take a look at some samples with and without missing publisher values:"
   ]
  },
  {
   "cell_type": "code",
   "execution_count": 10,
   "metadata": {},
   "outputs": [
    {
     "data": {
      "text/html": [
       "<div>\n",
       "<style scoped>\n",
       "    .dataframe tbody tr th:only-of-type {\n",
       "        vertical-align: middle;\n",
       "    }\n",
       "\n",
       "    .dataframe tbody tr th {\n",
       "        vertical-align: top;\n",
       "    }\n",
       "\n",
       "    .dataframe thead th {\n",
       "        text-align: right;\n",
       "    }\n",
       "</style>\n",
       "<table border=\"1\" class=\"dataframe\">\n",
       "  <thead>\n",
       "    <tr style=\"text-align: right;\">\n",
       "      <th></th>\n",
       "      <th>name</th>\n",
       "      <th>Gender</th>\n",
       "      <th>Eye color</th>\n",
       "      <th>Race</th>\n",
       "      <th>Hair color</th>\n",
       "      <th>Height</th>\n",
       "      <th>Publisher</th>\n",
       "      <th>Skin color</th>\n",
       "      <th>Alignment</th>\n",
       "      <th>Weight</th>\n",
       "    </tr>\n",
       "  </thead>\n",
       "  <tbody>\n",
       "    <tr>\n",
       "      <th>60</th>\n",
       "      <td>Banshee</td>\n",
       "      <td>Male</td>\n",
       "      <td>green</td>\n",
       "      <td>Human</td>\n",
       "      <td>Strawberry Blond</td>\n",
       "      <td>183.0</td>\n",
       "      <td>Marvel Comics</td>\n",
       "      <td>-</td>\n",
       "      <td>good</td>\n",
       "      <td>77.0</td>\n",
       "    </tr>\n",
       "    <tr>\n",
       "      <th>61</th>\n",
       "      <td>Bantam</td>\n",
       "      <td>Male</td>\n",
       "      <td>brown</td>\n",
       "      <td>-</td>\n",
       "      <td>Black</td>\n",
       "      <td>165.0</td>\n",
       "      <td>Marvel Comics</td>\n",
       "      <td>-</td>\n",
       "      <td>good</td>\n",
       "      <td>54.0</td>\n",
       "    </tr>\n",
       "    <tr>\n",
       "      <th>219</th>\n",
       "      <td>DL Hawkins</td>\n",
       "      <td>Male</td>\n",
       "      <td>-</td>\n",
       "      <td>-</td>\n",
       "      <td>-</td>\n",
       "      <td>-99.0</td>\n",
       "      <td>NBC - Heroes</td>\n",
       "      <td>-</td>\n",
       "      <td>good</td>\n",
       "      <td>-99.0</td>\n",
       "    </tr>\n",
       "    <tr>\n",
       "      <th>650</th>\n",
       "      <td>Synch</td>\n",
       "      <td>Male</td>\n",
       "      <td>brown</td>\n",
       "      <td>-</td>\n",
       "      <td>Black</td>\n",
       "      <td>180.0</td>\n",
       "      <td>Marvel Comics</td>\n",
       "      <td>-</td>\n",
       "      <td>good</td>\n",
       "      <td>74.0</td>\n",
       "    </tr>\n",
       "    <tr>\n",
       "      <th>8</th>\n",
       "      <td>Agent 13</td>\n",
       "      <td>Female</td>\n",
       "      <td>blue</td>\n",
       "      <td>-</td>\n",
       "      <td>Blond</td>\n",
       "      <td>173.0</td>\n",
       "      <td>Marvel Comics</td>\n",
       "      <td>-</td>\n",
       "      <td>good</td>\n",
       "      <td>61.0</td>\n",
       "    </tr>\n",
       "  </tbody>\n",
       "</table>\n",
       "</div>"
      ],
      "text/plain": [
       "           name  Gender Eye color   Race        Hair color  Height  \\\n",
       "60      Banshee    Male     green  Human  Strawberry Blond   183.0   \n",
       "61       Bantam    Male     brown      -             Black   165.0   \n",
       "219  DL Hawkins    Male         -      -                 -   -99.0   \n",
       "650       Synch    Male     brown      -             Black   180.0   \n",
       "8      Agent 13  Female      blue      -             Blond   173.0   \n",
       "\n",
       "         Publisher Skin color Alignment  Weight  \n",
       "60   Marvel Comics          -      good    77.0  \n",
       "61   Marvel Comics          -      good    54.0  \n",
       "219   NBC - Heroes          -      good   -99.0  \n",
       "650  Marvel Comics          -      good    74.0  \n",
       "8    Marvel Comics          -      good    61.0  "
      ]
     },
     "execution_count": 10,
     "metadata": {},
     "output_type": "execute_result"
    }
   ],
   "source": [
    "# Run this cell without changes\n",
    "has_publisher_sample = heroes_df[heroes_df[\"Publisher\"].notna()].sample(\n",
    "    5, random_state=1\n",
    ")\n",
    "has_publisher_sample"
   ]
  },
  {
   "cell_type": "code",
   "execution_count": 11,
   "metadata": {},
   "outputs": [
    {
     "data": {
      "text/html": [
       "<div>\n",
       "<style scoped>\n",
       "    .dataframe tbody tr th:only-of-type {\n",
       "        vertical-align: middle;\n",
       "    }\n",
       "\n",
       "    .dataframe tbody tr th {\n",
       "        vertical-align: top;\n",
       "    }\n",
       "\n",
       "    .dataframe thead th {\n",
       "        text-align: right;\n",
       "    }\n",
       "</style>\n",
       "<table border=\"1\" class=\"dataframe\">\n",
       "  <thead>\n",
       "    <tr style=\"text-align: right;\">\n",
       "      <th></th>\n",
       "      <th>name</th>\n",
       "      <th>Gender</th>\n",
       "      <th>Eye color</th>\n",
       "      <th>Race</th>\n",
       "      <th>Hair color</th>\n",
       "      <th>Height</th>\n",
       "      <th>Publisher</th>\n",
       "      <th>Skin color</th>\n",
       "      <th>Alignment</th>\n",
       "      <th>Weight</th>\n",
       "    </tr>\n",
       "  </thead>\n",
       "  <tbody>\n",
       "    <tr>\n",
       "      <th>175</th>\n",
       "      <td>Chuck Norris</td>\n",
       "      <td>Male</td>\n",
       "      <td>-</td>\n",
       "      <td>-</td>\n",
       "      <td>-</td>\n",
       "      <td>178.0</td>\n",
       "      <td>NaN</td>\n",
       "      <td>-</td>\n",
       "      <td>good</td>\n",
       "      <td>-99.0</td>\n",
       "    </tr>\n",
       "    <tr>\n",
       "      <th>286</th>\n",
       "      <td>Godzilla</td>\n",
       "      <td>-</td>\n",
       "      <td>-</td>\n",
       "      <td>Kaiju</td>\n",
       "      <td>-</td>\n",
       "      <td>108.0</td>\n",
       "      <td>NaN</td>\n",
       "      <td>grey</td>\n",
       "      <td>bad</td>\n",
       "      <td>NaN</td>\n",
       "    </tr>\n",
       "    <tr>\n",
       "      <th>263</th>\n",
       "      <td>Flash Gordon</td>\n",
       "      <td>Male</td>\n",
       "      <td>-</td>\n",
       "      <td>-</td>\n",
       "      <td>-</td>\n",
       "      <td>-99.0</td>\n",
       "      <td>NaN</td>\n",
       "      <td>-</td>\n",
       "      <td>good</td>\n",
       "      <td>-99.0</td>\n",
       "    </tr>\n",
       "    <tr>\n",
       "      <th>138</th>\n",
       "      <td>Brundlefly</td>\n",
       "      <td>Male</td>\n",
       "      <td>-</td>\n",
       "      <td>Mutant</td>\n",
       "      <td>-</td>\n",
       "      <td>193.0</td>\n",
       "      <td>NaN</td>\n",
       "      <td>-</td>\n",
       "      <td>-</td>\n",
       "      <td>-99.0</td>\n",
       "    </tr>\n",
       "    <tr>\n",
       "      <th>381</th>\n",
       "      <td>Katniss Everdeen</td>\n",
       "      <td>Female</td>\n",
       "      <td>-</td>\n",
       "      <td>Human</td>\n",
       "      <td>-</td>\n",
       "      <td>-99.0</td>\n",
       "      <td>NaN</td>\n",
       "      <td>-</td>\n",
       "      <td>good</td>\n",
       "      <td>-99.0</td>\n",
       "    </tr>\n",
       "  </tbody>\n",
       "</table>\n",
       "</div>"
      ],
      "text/plain": [
       "                 name  Gender Eye color    Race Hair color  Height Publisher  \\\n",
       "175      Chuck Norris    Male         -       -          -   178.0       NaN   \n",
       "286          Godzilla       -         -   Kaiju          -   108.0       NaN   \n",
       "263      Flash Gordon    Male         -       -          -   -99.0       NaN   \n",
       "138        Brundlefly    Male         -  Mutant          -   193.0       NaN   \n",
       "381  Katniss Everdeen  Female         -   Human          -   -99.0       NaN   \n",
       "\n",
       "    Skin color Alignment  Weight  \n",
       "175          -      good   -99.0  \n",
       "286       grey       bad     NaN  \n",
       "263          -      good   -99.0  \n",
       "138          -         -   -99.0  \n",
       "381          -      good   -99.0  "
      ]
     },
     "execution_count": 11,
     "metadata": {},
     "output_type": "execute_result"
    }
   ],
   "source": [
    "# Run this cell without changes\n",
    "missing_publisher_sample = heroes_df[heroes_df[\"Publisher\"].isna()].sample(\n",
    "    5, random_state=1\n",
    ")\n",
    "missing_publisher_sample"
   ]
  },
  {
   "cell_type": "markdown",
   "metadata": {},
   "source": [
    "What do we want to do about these missing values?\n",
    "\n",
    "Recall that there are two general strategies for dealing with missing values:\n",
    "\n",
    "1. Fill in missing values (either using another value from the column, e.g. the mean or mode, or using some other value like \"Unknown\")\n",
    "2. Drop rows with missing values\n",
    "\n",
    "Write your answer below, and explain how it relates to the information we have:"
   ]
  },
  {
   "cell_type": "code",
   "execution_count": 12,
   "metadata": {},
   "outputs": [
    {
     "data": {
      "text/plain": [
       "\"\\n2. **Numerical Columns (e.g., 'Height', 'Weight')**:\\n   - The 'Height' and 'Weight' columns have missing values represented as '-99.0'. Since '-99.0' is clearly not a valid value for height or weight, we should treat it as NaN (Not a Number).\\n   - We can either:\\n     - Replace '-99.0' with NaN and then fill the missing values with the mean or median of the respective column.\\n     - Or drop rows where both 'Height' and 'Weight' are missing if these values are critical for our analysis.\\n   - Reasoning: Replacing with the mean/median ensures that the numerical distribution remains consistent, while dropping rows might lead to loss of important data if the missing values are not too numerous.\\n\\nFor this dataset, given the prevalence of missing values, a combination of filling and dropping seems most appropriate.\\n\""
      ]
     },
     "execution_count": 12,
     "metadata": {},
     "output_type": "execute_result"
    }
   ],
   "source": [
    "# Replace None with appropriate text\n",
    "\"\"\"\n",
    "2. **Numerical Columns (e.g., 'Height', 'Weight')**:\n",
    "   - The 'Height' and 'Weight' columns have missing values represented as '-99.0'. Since '-99.0' is clearly not a valid value for height or weight, we should treat it as NaN (Not a Number).\n",
    "   - We can either:\n",
    "     - Replace '-99.0' with NaN and then fill the missing values with the mean or median of the respective column.\n",
    "     - Or drop rows where both 'Height' and 'Weight' are missing if these values are critical for our analysis.\n",
    "   - Reasoning: Replacing with the mean/median ensures that the numerical distribution remains consistent, while dropping rows might lead to loss of important data if the missing values are not too numerous.\n",
    "\n",
    "For this dataset, given the prevalence of missing values, a combination of filling and dropping seems most appropriate.\n",
    "\"\"\""
   ]
  },
  {
   "cell_type": "markdown",
   "metadata": {},
   "source": [
    "Now, implement the strategy to drop rows with missing values using code. (You can also check the solution branch for the answer to the question above if you're really not sure.)"
   ]
  },
  {
   "cell_type": "code",
   "execution_count": 13,
   "metadata": {},
   "outputs": [
    {
     "name": "stdout",
     "output_type": "stream",
     "text": [
      "Shape of the cleaned DataFrame: (59, 10)\n",
      "          name  Gender Eye color           Race Hair color  Height  \\\n",
      "1   Abe Sapien    Male      blue  Icthyo Sapien    No Hair   191.0   \n",
      "2     Abin Sur    Male      blue        Ungaran    No Hair   185.0   \n",
      "34  Apocalypse    Male       red         Mutant      Black   213.0   \n",
      "39   Archangel    Male      blue         Mutant      Blond   183.0   \n",
      "41      Ardina  Female     white          Alien     Orange   193.0   \n",
      "\n",
      "            Publisher Skin color Alignment  Weight  \n",
      "1   Dark Horse Comics       blue      good    65.0  \n",
      "2           DC Comics        red      good    90.0  \n",
      "34      Marvel Comics       grey       bad   135.0  \n",
      "39      Marvel Comics       blue      good    68.0  \n",
      "41      Marvel Comics       gold      good    98.0  \n"
     ]
    }
   ],
   "source": [
    "# Your code here\n",
    "heroes_df = heroes_df.replace({'-99.0': np.nan, '-': np.nan})\n",
    "heroes_df_cleaned = heroes_df.dropna()\n",
    "\n",
    "print(\"Shape of the cleaned DataFrame:\", heroes_df_cleaned.shape)\n",
    "print(heroes_df_cleaned.head())"
   ]
  },
  {
   "cell_type": "markdown",
   "metadata": {},
   "source": [
    "Now there should be no missing values in the publisher column:"
   ]
  },
  {
   "cell_type": "code",
   "execution_count": 14,
   "metadata": {},
   "outputs": [
    {
     "ename": "AssertionError",
     "evalue": "",
     "output_type": "error",
     "traceback": [
      "\u001b[1;31m---------------------------------------------------------------------------\u001b[0m",
      "\u001b[1;31mAssertionError\u001b[0m                            Traceback (most recent call last)",
      "Cell \u001b[1;32mIn[14], line 2\u001b[0m\n\u001b[0;32m      1\u001b[0m \u001b[38;5;66;03m# Run this cell without changes\u001b[39;00m\n\u001b[1;32m----> 2\u001b[0m \u001b[38;5;28;01massert\u001b[39;00m heroes_df[\u001b[38;5;124m\"\u001b[39m\u001b[38;5;124mPublisher\u001b[39m\u001b[38;5;124m\"\u001b[39m]\u001b[38;5;241m.\u001b[39misna()\u001b[38;5;241m.\u001b[39msum() \u001b[38;5;241m==\u001b[39m \u001b[38;5;241m0\u001b[39m\n",
      "\u001b[1;31mAssertionError\u001b[0m: "
     ]
    }
   ],
   "source": [
    "# Run this cell without changes\n",
    "assert heroes_df[\"Publisher\"].isna().sum() == 0"
   ]
  },
  {
   "cell_type": "markdown",
   "metadata": {},
   "source": [
    "### Identifying and Handling Text Data Requiring Cleaning\n",
    "\n",
    "The overall field of natural language processing (NLP) is quite broad, and we're not going to get into any advanced text processing, but it's useful to be able to clean up minor issues in text data.\n",
    "\n",
    "Let's take a look at the counts of heroes grouped by publisher:"
   ]
  },
  {
   "cell_type": "code",
   "execution_count": 15,
   "metadata": {},
   "outputs": [
    {
     "data": {
      "text/plain": [
       "Publisher\n",
       "Marvel Comics        379\n",
       "DC Comics            212\n",
       "NBC - Heroes          19\n",
       "Dark Horse Comics     18\n",
       "George Lucas          14\n",
       "Image Comics          14\n",
       "Marvel                 9\n",
       "Star Trek              6\n",
       "HarperCollins          6\n",
       "Team Epic TV           5\n",
       "SyFy                   5\n",
       "IDW Publishing         4\n",
       "Icon Comics            4\n",
       "ABC Studios            4\n",
       "Shueisha               4\n",
       "Wildstorm              3\n",
       " DC Comics             3\n",
       "Sony Pictures          2\n",
       "Titan Books            1\n",
       "Microsoft              1\n",
       "Rebellion              1\n",
       "Hanna-Barbera          1\n",
       "J. K. Rowling          1\n",
       "Universal Studios      1\n",
       "South Park             1\n",
       "J. R. R. Tolkien       1\n",
       "Name: count, dtype: int64"
      ]
     },
     "execution_count": 15,
     "metadata": {},
     "output_type": "execute_result"
    }
   ],
   "source": [
    "# Run this cell without changes\n",
    "heroes_df[\"Publisher\"].value_counts()"
   ]
  },
  {
   "cell_type": "markdown",
   "metadata": {},
   "source": [
    "There are two cases where we appear to have data entry issues, and publishers that should be encoded the same have not been. In other words, there are four categories present that really should be counted as two categories (and you do not need specific comic book knowledge to be able to identify them).\n",
    "\n",
    "Identify those two cases below:"
   ]
  },
  {
   "cell_type": "code",
   "execution_count": 16,
   "metadata": {},
   "outputs": [
    {
     "data": {
      "text/plain": [
       "'\\nUpon inspecting the \\'Publisher\\' column, we can identify two cases where data entry issues have caused publishers that should be encoded the same to appear as separate categories:\\n\\n1. **\"Marvel Comics\" and \"Marvel\"**:\\n   - These two entries likely refer to the same publisher, Marvel Comics. The shorter version (\"Marvel\") is likely a truncated or simplified entry.\\n\\n2. **\"DC Comics\" and \"DC\"**:\\n   - Similarly, these two entries probably refer to the same publisher, DC Comics. The shorter version (\"DC\") might have been entered incorrectly or inconsistently.\\n\\nTo address this issue, we can standardize the entries by replacing \"Marvel\" with \"Marvel Comics\" and \"DC\" with \"DC Comics\". This will ensure consistency in the \\'Publisher\\' column and allow for accurate analysis of the data.\\n'"
      ]
     },
     "execution_count": 16,
     "metadata": {},
     "output_type": "execute_result"
    }
   ],
   "source": [
    "# Replace None with appropriate text\n",
    "\"\"\"\n",
    "Upon inspecting the 'Publisher' column, we can identify two cases where data entry issues have caused publishers that should be encoded the same to appear as separate categories:\n",
    "\n",
    "1. **\"Marvel Comics\" and \"Marvel\"**:\n",
    "   - These two entries likely refer to the same publisher, Marvel Comics. The shorter version (\"Marvel\") is likely a truncated or simplified entry.\n",
    "\n",
    "2. **\"DC Comics\" and \"DC\"**:\n",
    "   - Similarly, these two entries probably refer to the same publisher, DC Comics. The shorter version (\"DC\") might have been entered incorrectly or inconsistently.\n",
    "\n",
    "To address this issue, we can standardize the entries by replacing \"Marvel\" with \"Marvel Comics\" and \"DC\" with \"DC Comics\". This will ensure consistency in the 'Publisher' column and allow for accurate analysis of the data.\n",
    "\"\"\""
   ]
  },
  {
   "cell_type": "markdown",
   "metadata": {},
   "source": [
    "Now, write some code to handle these cases. If you're not sure where to start, look at the pandas documentation for [replacing values](https://pandas.pydata.org/pandas-docs/stable/reference/api/pandas.Series.replace.html) and [stripping off whitespace](https://pandas.pydata.org/pandas-docs/stable/reference/api/pandas.Series.str.strip.html)."
   ]
  },
  {
   "cell_type": "code",
   "execution_count": 17,
   "metadata": {},
   "outputs": [
    {
     "name": "stdout",
     "output_type": "stream",
     "text": [
      "Unique publishers after cleaning:\n",
      "['Marvel Comics' 'Dark Horse Comics' 'DC Comics' 'NBC - Heroes'\n",
      " 'Wildstorm' 'Image Comics' nan 'Icon Comics' 'SyFy' 'Hanna-Barbera'\n",
      " 'George Lucas' 'Team Epic TV' 'South Park' 'HarperCollins' 'ABC Studios'\n",
      " 'Universal Studios' 'Star Trek' 'IDW Publishing' 'Shueisha'\n",
      " 'Sony Pictures' 'J. K. Rowling' 'Titan Books' 'Rebellion' 'Microsoft'\n",
      " 'J. R. R. Tolkien']\n"
     ]
    }
   ],
   "source": [
    "# Your code here\n",
    "heroes_df['Publisher'] = heroes_df['Publisher'].replace({'Marvel': 'Marvel Comics', 'DC': 'DC Comics'})\n",
    "heroes_df['Publisher'] = heroes_df['Publisher'].str.strip()\n",
    "\n",
    "print(\"Unique publishers after cleaning:\")\n",
    "print(heroes_df['Publisher'].unique())\n"
   ]
  },
  {
   "cell_type": "markdown",
   "metadata": {},
   "source": [
    "Check your work below:"
   ]
  },
  {
   "cell_type": "code",
   "execution_count": 18,
   "metadata": {},
   "outputs": [
    {
     "data": {
      "text/plain": [
       "Publisher\n",
       "Marvel Comics        388\n",
       "DC Comics            215\n",
       "NBC - Heroes          19\n",
       "Dark Horse Comics     18\n",
       "George Lucas          14\n",
       "Image Comics          14\n",
       "Star Trek              6\n",
       "HarperCollins          6\n",
       "SyFy                   5\n",
       "Team Epic TV           5\n",
       "Icon Comics            4\n",
       "ABC Studios            4\n",
       "IDW Publishing         4\n",
       "Shueisha               4\n",
       "Wildstorm              3\n",
       "Sony Pictures          2\n",
       "Hanna-Barbera          1\n",
       "South Park             1\n",
       "Universal Studios      1\n",
       "J. K. Rowling          1\n",
       "Titan Books            1\n",
       "Rebellion              1\n",
       "Microsoft              1\n",
       "J. R. R. Tolkien       1\n",
       "Name: count, dtype: int64"
      ]
     },
     "execution_count": 18,
     "metadata": {},
     "output_type": "execute_result"
    }
   ],
   "source": [
    "# Run this cell without changes\n",
    "heroes_df[\"Publisher\"].value_counts()"
   ]
  },
  {
   "cell_type": "markdown",
   "metadata": {},
   "source": [
    "### Answering the Question\n",
    "\n",
    "Now we should be able to answer *What is the distribution of superheroes by publisher?*\n",
    "\n",
    "If your data cleaning was done correctly, this code should work without any further changes:"
   ]
  },
  {
   "cell_type": "code",
   "execution_count": 19,
   "metadata": {},
   "outputs": [],
   "source": [
    "# Run this cell without changes\n",
    "\n",
    "# Set up plots\n",
    "fig, (ax1, ax2) = plt.subplots(ncols=2, figsize=(16, 5))\n",
    "\n",
    "# Create variables for easier reuse\n",
    "value_counts = heroes_df[\"Publisher\"].value_counts()\n",
    "top_5_counts = value_counts.iloc[:5]\n",
    "\n",
    "# Plot data\n",
    "ax1.bar(value_counts.index, value_counts.values)\n",
    "ax2.bar(top_5_counts.index, top_5_counts.values)\n",
    "\n",
    "# Customize appearance\n",
    "ax1.tick_params(axis=\"x\", labelrotation=90)\n",
    "ax2.tick_params(axis=\"x\", labelrotation=45)\n",
    "ax1.set_ylabel(\"Count of Superheroes\")\n",
    "ax2.set_ylabel(\"Count of Superheroes\")\n",
    "ax1.set_title(\"Distribution of Superheroes by Publisher\")\n",
    "ax2.set_title(\"Top 5 Publishers by Count of Superheroes\");"
   ]
  },
  {
   "cell_type": "markdown",
   "metadata": {},
   "source": [
    "## 3. Perform Data Aggregation and Cleaning Required to Answer Second Question\n",
    "\n",
    "Recall that the second question is: *What is the relationship between height and number of superpowers? And does this differ based on gender?*\n",
    "\n",
    "Unlike the previous question, we won't be able to answer this with just `heroes_df`, since information about height is contained in `heroes_df`, while information about superpowers is contained in `powers_df`.\n",
    "\n",
    "### Joining the Dataframes Together\n",
    "\n",
    "First, identify the shared key between `heroes_df` and `powers_df`. (Shared key meaning, the values you want to join on.) Let's look at them again:"
   ]
  },
  {
   "cell_type": "code",
   "execution_count": 20,
   "metadata": {},
   "outputs": [
    {
     "data": {
      "text/html": [
       "<div>\n",
       "<style scoped>\n",
       "    .dataframe tbody tr th:only-of-type {\n",
       "        vertical-align: middle;\n",
       "    }\n",
       "\n",
       "    .dataframe tbody tr th {\n",
       "        vertical-align: top;\n",
       "    }\n",
       "\n",
       "    .dataframe thead th {\n",
       "        text-align: right;\n",
       "    }\n",
       "</style>\n",
       "<table border=\"1\" class=\"dataframe\">\n",
       "  <thead>\n",
       "    <tr style=\"text-align: right;\">\n",
       "      <th></th>\n",
       "      <th>name</th>\n",
       "      <th>Gender</th>\n",
       "      <th>Eye color</th>\n",
       "      <th>Race</th>\n",
       "      <th>Hair color</th>\n",
       "      <th>Height</th>\n",
       "      <th>Publisher</th>\n",
       "      <th>Skin color</th>\n",
       "      <th>Alignment</th>\n",
       "      <th>Weight</th>\n",
       "    </tr>\n",
       "  </thead>\n",
       "  <tbody>\n",
       "    <tr>\n",
       "      <th>0</th>\n",
       "      <td>A-Bomb</td>\n",
       "      <td>Male</td>\n",
       "      <td>yellow</td>\n",
       "      <td>Human</td>\n",
       "      <td>No Hair</td>\n",
       "      <td>203.0</td>\n",
       "      <td>Marvel Comics</td>\n",
       "      <td>NaN</td>\n",
       "      <td>good</td>\n",
       "      <td>441.0</td>\n",
       "    </tr>\n",
       "    <tr>\n",
       "      <th>1</th>\n",
       "      <td>Abe Sapien</td>\n",
       "      <td>Male</td>\n",
       "      <td>blue</td>\n",
       "      <td>Icthyo Sapien</td>\n",
       "      <td>No Hair</td>\n",
       "      <td>191.0</td>\n",
       "      <td>Dark Horse Comics</td>\n",
       "      <td>blue</td>\n",
       "      <td>good</td>\n",
       "      <td>65.0</td>\n",
       "    </tr>\n",
       "    <tr>\n",
       "      <th>2</th>\n",
       "      <td>Abin Sur</td>\n",
       "      <td>Male</td>\n",
       "      <td>blue</td>\n",
       "      <td>Ungaran</td>\n",
       "      <td>No Hair</td>\n",
       "      <td>185.0</td>\n",
       "      <td>DC Comics</td>\n",
       "      <td>red</td>\n",
       "      <td>good</td>\n",
       "      <td>90.0</td>\n",
       "    </tr>\n",
       "    <tr>\n",
       "      <th>3</th>\n",
       "      <td>Abomination</td>\n",
       "      <td>Male</td>\n",
       "      <td>green</td>\n",
       "      <td>Human / Radiation</td>\n",
       "      <td>No Hair</td>\n",
       "      <td>203.0</td>\n",
       "      <td>Marvel Comics</td>\n",
       "      <td>NaN</td>\n",
       "      <td>bad</td>\n",
       "      <td>441.0</td>\n",
       "    </tr>\n",
       "    <tr>\n",
       "      <th>4</th>\n",
       "      <td>Abraxas</td>\n",
       "      <td>Male</td>\n",
       "      <td>blue</td>\n",
       "      <td>Cosmic Entity</td>\n",
       "      <td>Black</td>\n",
       "      <td>-99.0</td>\n",
       "      <td>Marvel Comics</td>\n",
       "      <td>NaN</td>\n",
       "      <td>bad</td>\n",
       "      <td>-99.0</td>\n",
       "    </tr>\n",
       "    <tr>\n",
       "      <th>...</th>\n",
       "      <td>...</td>\n",
       "      <td>...</td>\n",
       "      <td>...</td>\n",
       "      <td>...</td>\n",
       "      <td>...</td>\n",
       "      <td>...</td>\n",
       "      <td>...</td>\n",
       "      <td>...</td>\n",
       "      <td>...</td>\n",
       "      <td>...</td>\n",
       "    </tr>\n",
       "    <tr>\n",
       "      <th>729</th>\n",
       "      <td>Yellowjacket II</td>\n",
       "      <td>Female</td>\n",
       "      <td>blue</td>\n",
       "      <td>Human</td>\n",
       "      <td>Strawberry Blond</td>\n",
       "      <td>165.0</td>\n",
       "      <td>Marvel Comics</td>\n",
       "      <td>NaN</td>\n",
       "      <td>good</td>\n",
       "      <td>52.0</td>\n",
       "    </tr>\n",
       "    <tr>\n",
       "      <th>730</th>\n",
       "      <td>Ymir</td>\n",
       "      <td>Male</td>\n",
       "      <td>white</td>\n",
       "      <td>Frost Giant</td>\n",
       "      <td>No Hair</td>\n",
       "      <td>304.8</td>\n",
       "      <td>Marvel Comics</td>\n",
       "      <td>white</td>\n",
       "      <td>good</td>\n",
       "      <td>-99.0</td>\n",
       "    </tr>\n",
       "    <tr>\n",
       "      <th>731</th>\n",
       "      <td>Yoda</td>\n",
       "      <td>Male</td>\n",
       "      <td>brown</td>\n",
       "      <td>Yoda's species</td>\n",
       "      <td>White</td>\n",
       "      <td>66.0</td>\n",
       "      <td>George Lucas</td>\n",
       "      <td>green</td>\n",
       "      <td>good</td>\n",
       "      <td>17.0</td>\n",
       "    </tr>\n",
       "    <tr>\n",
       "      <th>732</th>\n",
       "      <td>Zatanna</td>\n",
       "      <td>Female</td>\n",
       "      <td>blue</td>\n",
       "      <td>Human</td>\n",
       "      <td>Black</td>\n",
       "      <td>170.0</td>\n",
       "      <td>DC Comics</td>\n",
       "      <td>NaN</td>\n",
       "      <td>good</td>\n",
       "      <td>57.0</td>\n",
       "    </tr>\n",
       "    <tr>\n",
       "      <th>733</th>\n",
       "      <td>Zoom</td>\n",
       "      <td>Male</td>\n",
       "      <td>red</td>\n",
       "      <td>NaN</td>\n",
       "      <td>Brown</td>\n",
       "      <td>185.0</td>\n",
       "      <td>DC Comics</td>\n",
       "      <td>NaN</td>\n",
       "      <td>bad</td>\n",
       "      <td>81.0</td>\n",
       "    </tr>\n",
       "  </tbody>\n",
       "</table>\n",
       "<p>734 rows × 10 columns</p>\n",
       "</div>"
      ],
      "text/plain": [
       "                name  Gender Eye color               Race        Hair color  \\\n",
       "0             A-Bomb    Male    yellow              Human           No Hair   \n",
       "1         Abe Sapien    Male      blue      Icthyo Sapien           No Hair   \n",
       "2           Abin Sur    Male      blue            Ungaran           No Hair   \n",
       "3        Abomination    Male     green  Human / Radiation           No Hair   \n",
       "4            Abraxas    Male      blue      Cosmic Entity             Black   \n",
       "..               ...     ...       ...                ...               ...   \n",
       "729  Yellowjacket II  Female      blue              Human  Strawberry Blond   \n",
       "730             Ymir    Male     white        Frost Giant           No Hair   \n",
       "731             Yoda    Male     brown     Yoda's species             White   \n",
       "732          Zatanna  Female      blue              Human             Black   \n",
       "733             Zoom    Male       red                NaN             Brown   \n",
       "\n",
       "     Height          Publisher Skin color Alignment  Weight  \n",
       "0     203.0      Marvel Comics        NaN      good   441.0  \n",
       "1     191.0  Dark Horse Comics       blue      good    65.0  \n",
       "2     185.0          DC Comics        red      good    90.0  \n",
       "3     203.0      Marvel Comics        NaN       bad   441.0  \n",
       "4     -99.0      Marvel Comics        NaN       bad   -99.0  \n",
       "..      ...                ...        ...       ...     ...  \n",
       "729   165.0      Marvel Comics        NaN      good    52.0  \n",
       "730   304.8      Marvel Comics      white      good   -99.0  \n",
       "731    66.0       George Lucas      green      good    17.0  \n",
       "732   170.0          DC Comics        NaN      good    57.0  \n",
       "733   185.0          DC Comics        NaN       bad    81.0  \n",
       "\n",
       "[734 rows x 10 columns]"
      ]
     },
     "execution_count": 20,
     "metadata": {},
     "output_type": "execute_result"
    }
   ],
   "source": [
    "# Run this cell without changes\n",
    "heroes_df"
   ]
  },
  {
   "cell_type": "code",
   "execution_count": 21,
   "metadata": {},
   "outputs": [
    {
     "data": {
      "text/html": [
       "<div>\n",
       "<style scoped>\n",
       "    .dataframe tbody tr th:only-of-type {\n",
       "        vertical-align: middle;\n",
       "    }\n",
       "\n",
       "    .dataframe tbody tr th {\n",
       "        vertical-align: top;\n",
       "    }\n",
       "\n",
       "    .dataframe thead th {\n",
       "        text-align: right;\n",
       "    }\n",
       "</style>\n",
       "<table border=\"1\" class=\"dataframe\">\n",
       "  <thead>\n",
       "    <tr style=\"text-align: right;\">\n",
       "      <th></th>\n",
       "      <th>3-D Man</th>\n",
       "      <th>A-Bomb</th>\n",
       "      <th>Abe Sapien</th>\n",
       "      <th>Abin Sur</th>\n",
       "      <th>Abomination</th>\n",
       "      <th>Abraxas</th>\n",
       "      <th>Absorbing Man</th>\n",
       "      <th>Adam Monroe</th>\n",
       "      <th>Adam Strange</th>\n",
       "      <th>Agent Bob</th>\n",
       "      <th>...</th>\n",
       "      <th>Wonder Man</th>\n",
       "      <th>Wonder Woman</th>\n",
       "      <th>X-23</th>\n",
       "      <th>X-Man</th>\n",
       "      <th>Yellowjacket</th>\n",
       "      <th>Yellowjacket II</th>\n",
       "      <th>Ymir</th>\n",
       "      <th>Yoda</th>\n",
       "      <th>Zatanna</th>\n",
       "      <th>Zoom</th>\n",
       "    </tr>\n",
       "  </thead>\n",
       "  <tbody>\n",
       "    <tr>\n",
       "      <th>Agility</th>\n",
       "      <td>True</td>\n",
       "      <td>False</td>\n",
       "      <td>True</td>\n",
       "      <td>False</td>\n",
       "      <td>False</td>\n",
       "      <td>False</td>\n",
       "      <td>False</td>\n",
       "      <td>False</td>\n",
       "      <td>False</td>\n",
       "      <td>False</td>\n",
       "      <td>...</td>\n",
       "      <td>False</td>\n",
       "      <td>False</td>\n",
       "      <td>True</td>\n",
       "      <td>False</td>\n",
       "      <td>False</td>\n",
       "      <td>False</td>\n",
       "      <td>False</td>\n",
       "      <td>True</td>\n",
       "      <td>False</td>\n",
       "      <td>False</td>\n",
       "    </tr>\n",
       "    <tr>\n",
       "      <th>Accelerated Healing</th>\n",
       "      <td>False</td>\n",
       "      <td>True</td>\n",
       "      <td>True</td>\n",
       "      <td>False</td>\n",
       "      <td>True</td>\n",
       "      <td>False</td>\n",
       "      <td>False</td>\n",
       "      <td>True</td>\n",
       "      <td>False</td>\n",
       "      <td>False</td>\n",
       "      <td>...</td>\n",
       "      <td>False</td>\n",
       "      <td>True</td>\n",
       "      <td>True</td>\n",
       "      <td>False</td>\n",
       "      <td>False</td>\n",
       "      <td>False</td>\n",
       "      <td>False</td>\n",
       "      <td>False</td>\n",
       "      <td>False</td>\n",
       "      <td>False</td>\n",
       "    </tr>\n",
       "    <tr>\n",
       "      <th>Lantern Power Ring</th>\n",
       "      <td>False</td>\n",
       "      <td>False</td>\n",
       "      <td>False</td>\n",
       "      <td>True</td>\n",
       "      <td>False</td>\n",
       "      <td>False</td>\n",
       "      <td>False</td>\n",
       "      <td>False</td>\n",
       "      <td>False</td>\n",
       "      <td>False</td>\n",
       "      <td>...</td>\n",
       "      <td>False</td>\n",
       "      <td>False</td>\n",
       "      <td>False</td>\n",
       "      <td>False</td>\n",
       "      <td>False</td>\n",
       "      <td>False</td>\n",
       "      <td>False</td>\n",
       "      <td>False</td>\n",
       "      <td>False</td>\n",
       "      <td>False</td>\n",
       "    </tr>\n",
       "    <tr>\n",
       "      <th>Dimensional Awareness</th>\n",
       "      <td>False</td>\n",
       "      <td>False</td>\n",
       "      <td>False</td>\n",
       "      <td>False</td>\n",
       "      <td>False</td>\n",
       "      <td>True</td>\n",
       "      <td>False</td>\n",
       "      <td>False</td>\n",
       "      <td>False</td>\n",
       "      <td>False</td>\n",
       "      <td>...</td>\n",
       "      <td>False</td>\n",
       "      <td>False</td>\n",
       "      <td>False</td>\n",
       "      <td>False</td>\n",
       "      <td>False</td>\n",
       "      <td>False</td>\n",
       "      <td>False</td>\n",
       "      <td>False</td>\n",
       "      <td>False</td>\n",
       "      <td>False</td>\n",
       "    </tr>\n",
       "    <tr>\n",
       "      <th>Cold Resistance</th>\n",
       "      <td>False</td>\n",
       "      <td>False</td>\n",
       "      <td>True</td>\n",
       "      <td>False</td>\n",
       "      <td>False</td>\n",
       "      <td>False</td>\n",
       "      <td>True</td>\n",
       "      <td>False</td>\n",
       "      <td>False</td>\n",
       "      <td>False</td>\n",
       "      <td>...</td>\n",
       "      <td>False</td>\n",
       "      <td>False</td>\n",
       "      <td>False</td>\n",
       "      <td>False</td>\n",
       "      <td>False</td>\n",
       "      <td>False</td>\n",
       "      <td>True</td>\n",
       "      <td>False</td>\n",
       "      <td>False</td>\n",
       "      <td>False</td>\n",
       "    </tr>\n",
       "    <tr>\n",
       "      <th>...</th>\n",
       "      <td>...</td>\n",
       "      <td>...</td>\n",
       "      <td>...</td>\n",
       "      <td>...</td>\n",
       "      <td>...</td>\n",
       "      <td>...</td>\n",
       "      <td>...</td>\n",
       "      <td>...</td>\n",
       "      <td>...</td>\n",
       "      <td>...</td>\n",
       "      <td>...</td>\n",
       "      <td>...</td>\n",
       "      <td>...</td>\n",
       "      <td>...</td>\n",
       "      <td>...</td>\n",
       "      <td>...</td>\n",
       "      <td>...</td>\n",
       "      <td>...</td>\n",
       "      <td>...</td>\n",
       "      <td>...</td>\n",
       "      <td>...</td>\n",
       "    </tr>\n",
       "    <tr>\n",
       "      <th>Phoenix Force</th>\n",
       "      <td>False</td>\n",
       "      <td>False</td>\n",
       "      <td>False</td>\n",
       "      <td>False</td>\n",
       "      <td>False</td>\n",
       "      <td>False</td>\n",
       "      <td>False</td>\n",
       "      <td>False</td>\n",
       "      <td>False</td>\n",
       "      <td>False</td>\n",
       "      <td>...</td>\n",
       "      <td>False</td>\n",
       "      <td>False</td>\n",
       "      <td>False</td>\n",
       "      <td>False</td>\n",
       "      <td>False</td>\n",
       "      <td>False</td>\n",
       "      <td>False</td>\n",
       "      <td>False</td>\n",
       "      <td>False</td>\n",
       "      <td>False</td>\n",
       "    </tr>\n",
       "    <tr>\n",
       "      <th>Molecular Dissipation</th>\n",
       "      <td>False</td>\n",
       "      <td>False</td>\n",
       "      <td>False</td>\n",
       "      <td>False</td>\n",
       "      <td>False</td>\n",
       "      <td>False</td>\n",
       "      <td>False</td>\n",
       "      <td>False</td>\n",
       "      <td>False</td>\n",
       "      <td>False</td>\n",
       "      <td>...</td>\n",
       "      <td>False</td>\n",
       "      <td>False</td>\n",
       "      <td>False</td>\n",
       "      <td>False</td>\n",
       "      <td>False</td>\n",
       "      <td>False</td>\n",
       "      <td>False</td>\n",
       "      <td>False</td>\n",
       "      <td>False</td>\n",
       "      <td>False</td>\n",
       "    </tr>\n",
       "    <tr>\n",
       "      <th>Vision - Cryo</th>\n",
       "      <td>False</td>\n",
       "      <td>False</td>\n",
       "      <td>False</td>\n",
       "      <td>False</td>\n",
       "      <td>False</td>\n",
       "      <td>False</td>\n",
       "      <td>False</td>\n",
       "      <td>False</td>\n",
       "      <td>False</td>\n",
       "      <td>False</td>\n",
       "      <td>...</td>\n",
       "      <td>False</td>\n",
       "      <td>False</td>\n",
       "      <td>False</td>\n",
       "      <td>False</td>\n",
       "      <td>False</td>\n",
       "      <td>False</td>\n",
       "      <td>False</td>\n",
       "      <td>False</td>\n",
       "      <td>False</td>\n",
       "      <td>False</td>\n",
       "    </tr>\n",
       "    <tr>\n",
       "      <th>Omnipresent</th>\n",
       "      <td>False</td>\n",
       "      <td>False</td>\n",
       "      <td>False</td>\n",
       "      <td>False</td>\n",
       "      <td>False</td>\n",
       "      <td>False</td>\n",
       "      <td>False</td>\n",
       "      <td>False</td>\n",
       "      <td>False</td>\n",
       "      <td>False</td>\n",
       "      <td>...</td>\n",
       "      <td>False</td>\n",
       "      <td>False</td>\n",
       "      <td>False</td>\n",
       "      <td>False</td>\n",
       "      <td>False</td>\n",
       "      <td>False</td>\n",
       "      <td>False</td>\n",
       "      <td>False</td>\n",
       "      <td>False</td>\n",
       "      <td>False</td>\n",
       "    </tr>\n",
       "    <tr>\n",
       "      <th>Omniscient</th>\n",
       "      <td>False</td>\n",
       "      <td>False</td>\n",
       "      <td>False</td>\n",
       "      <td>False</td>\n",
       "      <td>False</td>\n",
       "      <td>False</td>\n",
       "      <td>False</td>\n",
       "      <td>False</td>\n",
       "      <td>False</td>\n",
       "      <td>False</td>\n",
       "      <td>...</td>\n",
       "      <td>False</td>\n",
       "      <td>False</td>\n",
       "      <td>False</td>\n",
       "      <td>False</td>\n",
       "      <td>False</td>\n",
       "      <td>False</td>\n",
       "      <td>False</td>\n",
       "      <td>False</td>\n",
       "      <td>False</td>\n",
       "      <td>False</td>\n",
       "    </tr>\n",
       "  </tbody>\n",
       "</table>\n",
       "<p>167 rows × 667 columns</p>\n",
       "</div>"
      ],
      "text/plain": [
       "                       3-D Man  A-Bomb  Abe Sapien  Abin Sur  Abomination  \\\n",
       "Agility                   True   False        True     False        False   \n",
       "Accelerated Healing      False    True        True     False         True   \n",
       "Lantern Power Ring       False   False       False      True        False   \n",
       "Dimensional Awareness    False   False       False     False        False   \n",
       "Cold Resistance          False   False        True     False        False   \n",
       "...                        ...     ...         ...       ...          ...   \n",
       "Phoenix Force            False   False       False     False        False   \n",
       "Molecular Dissipation    False   False       False     False        False   \n",
       "Vision - Cryo            False   False       False     False        False   \n",
       "Omnipresent              False   False       False     False        False   \n",
       "Omniscient               False   False       False     False        False   \n",
       "\n",
       "                       Abraxas  Absorbing Man  Adam Monroe  Adam Strange  \\\n",
       "Agility                  False          False        False         False   \n",
       "Accelerated Healing      False          False         True         False   \n",
       "Lantern Power Ring       False          False        False         False   \n",
       "Dimensional Awareness     True          False        False         False   \n",
       "Cold Resistance          False           True        False         False   \n",
       "...                        ...            ...          ...           ...   \n",
       "Phoenix Force            False          False        False         False   \n",
       "Molecular Dissipation    False          False        False         False   \n",
       "Vision - Cryo            False          False        False         False   \n",
       "Omnipresent              False          False        False         False   \n",
       "Omniscient               False          False        False         False   \n",
       "\n",
       "                       Agent Bob  ...  Wonder Man  Wonder Woman   X-23  X-Man  \\\n",
       "Agility                    False  ...       False         False   True  False   \n",
       "Accelerated Healing        False  ...       False          True   True  False   \n",
       "Lantern Power Ring         False  ...       False         False  False  False   \n",
       "Dimensional Awareness      False  ...       False         False  False  False   \n",
       "Cold Resistance            False  ...       False         False  False  False   \n",
       "...                          ...  ...         ...           ...    ...    ...   \n",
       "Phoenix Force              False  ...       False         False  False  False   \n",
       "Molecular Dissipation      False  ...       False         False  False  False   \n",
       "Vision - Cryo              False  ...       False         False  False  False   \n",
       "Omnipresent                False  ...       False         False  False  False   \n",
       "Omniscient                 False  ...       False         False  False  False   \n",
       "\n",
       "                       Yellowjacket  Yellowjacket II   Ymir   Yoda  Zatanna  \\\n",
       "Agility                       False            False  False   True    False   \n",
       "Accelerated Healing           False            False  False  False    False   \n",
       "Lantern Power Ring            False            False  False  False    False   \n",
       "Dimensional Awareness         False            False  False  False    False   \n",
       "Cold Resistance               False            False   True  False    False   \n",
       "...                             ...              ...    ...    ...      ...   \n",
       "Phoenix Force                 False            False  False  False    False   \n",
       "Molecular Dissipation         False            False  False  False    False   \n",
       "Vision - Cryo                 False            False  False  False    False   \n",
       "Omnipresent                   False            False  False  False    False   \n",
       "Omniscient                    False            False  False  False    False   \n",
       "\n",
       "                        Zoom  \n",
       "Agility                False  \n",
       "Accelerated Healing    False  \n",
       "Lantern Power Ring     False  \n",
       "Dimensional Awareness  False  \n",
       "Cold Resistance        False  \n",
       "...                      ...  \n",
       "Phoenix Force          False  \n",
       "Molecular Dissipation  False  \n",
       "Vision - Cryo          False  \n",
       "Omnipresent            False  \n",
       "Omniscient             False  \n",
       "\n",
       "[167 rows x 667 columns]"
      ]
     },
     "execution_count": 21,
     "metadata": {},
     "output_type": "execute_result"
    }
   ],
   "source": [
    "# Run this cell without changes\n",
    "powers_df"
   ]
  },
  {
   "cell_type": "markdown",
   "metadata": {},
   "source": [
    "In the cell below, identify the shared key, and your strategy for joining the data (e.g. what will one record represent after you join, will you do a left/right/inner/outer join):"
   ]
  },
  {
   "cell_type": "code",
   "execution_count": 22,
   "metadata": {},
   "outputs": [
    {
     "data": {
      "text/plain": [
       "\"\\nThe shared key between the `heroes_df` and `powers_df` datasets is the **name of the superhero**. In the `heroes_df`, this is likely represented by a column such as `'name'`, while in the `powers_df`, the index contains the superhero names.\\n\\n### Strategy for Joining the Data:\\n1. **Shared Key**: \\n   - The shared key is the superhero name.\\n   - Since the superhero names are in the index of `powers_df`, we will need to reset the index of `powers_df` to make the superhero names into a regular column before performing the join.\\n\\n2. **Type of Join**:\\n   - We will perform an **inner join**. This ensures that only records with matching superhero names in both datasets are included in the final dataset. An inner join is appropriate here because we want to ensure that we have complete information for each superhero (both demographic data and powers).\\n   \\n3. **Resulting Dataset**:\\n   - After joining, one record will represent a single superhero, containing both their demographic information (from `heroes_df`) and their powers (from `powers_df`).\\n\\n4. **Steps to Implement**:\\n   - Reset the index of `powers_df` so that the superhero names become a column.\\n   - Perform an inner join on the shared key (`'name'` or equivalent column).\\n   - Verify the resulting dataset to ensure the join was successful and the data makes sense.\\n\\nExample of what one record might represent after joining:\\n   - A row for '3-D Man' would include his demographic details (e.g., gender, height, publisher) from `heroes_df` and his powers (e.g., Agility, Accelerated Healing) from `powers_df`.\\n\\nBy following this strategy, we can combine the two datasets into a single, comprehensive dataset for further analysis.\\n\""
      ]
     },
     "execution_count": 22,
     "metadata": {},
     "output_type": "execute_result"
    }
   ],
   "source": [
    "# Replace None with appropriate text\n",
    "\"\"\"\n",
    "The shared key between the `heroes_df` and `powers_df` datasets is the **name of the superhero**. In the `heroes_df`, this is likely represented by a column such as `'name'`, while in the `powers_df`, the index contains the superhero names.\n",
    "\n",
    "### Strategy for Joining the Data:\n",
    "1. **Shared Key**: \n",
    "   - The shared key is the superhero name.\n",
    "   - Since the superhero names are in the index of `powers_df`, we will need to reset the index of `powers_df` to make the superhero names into a regular column before performing the join.\n",
    "\n",
    "2. **Type of Join**:\n",
    "   - We will perform an **inner join**. This ensures that only records with matching superhero names in both datasets are included in the final dataset. An inner join is appropriate here because we want to ensure that we have complete information for each superhero (both demographic data and powers).\n",
    "   \n",
    "3. **Resulting Dataset**:\n",
    "   - After joining, one record will represent a single superhero, containing both their demographic information (from `heroes_df`) and their powers (from `powers_df`).\n",
    "\n",
    "4. **Steps to Implement**:\n",
    "   - Reset the index of `powers_df` so that the superhero names become a column.\n",
    "   - Perform an inner join on the shared key (`'name'` or equivalent column).\n",
    "   - Verify the resulting dataset to ensure the join was successful and the data makes sense.\n",
    "\n",
    "Example of what one record might represent after joining:\n",
    "   - A row for '3-D Man' would include his demographic details (e.g., gender, height, publisher) from `heroes_df` and his powers (e.g., Agility, Accelerated Healing) from `powers_df`.\n",
    "\n",
    "By following this strategy, we can combine the two datasets into a single, comprehensive dataset for further analysis.\n",
    "\"\"\""
   ]
  },
  {
   "cell_type": "markdown",
   "metadata": {},
   "source": [
    "In the cell below, create a new dataframe called `heroes_and_powers_df` that contains the joined data. You can look at the above answer in the solution branch if you're not sure where to start.\n",
    "\n",
    "***Hint:*** Note that the `.join` method requires that the two dataframes share an index ([documentation here](https://pandas.pydata.org/pandas-docs/stable/reference/api/pandas.DataFrame.join.html)) whereas the `.merge` method can join using any columns ([documentation here](https://pandas.pydata.org/pandas-docs/stable/reference/api/pandas.DataFrame.merge.html)). It is up to you which one you want to use."
   ]
  },
  {
   "cell_type": "code",
   "execution_count": 23,
   "metadata": {},
   "outputs": [
    {
     "name": "stdout",
     "output_type": "stream",
     "text": [
      "         name Gender Eye color Race Hair color  Height     Publisher  \\\n",
      "0  Omniscient   Male     brown  NaN      Black   180.0  Team Epic TV   \n",
      "\n",
      "  Skin color Alignment  Weight  ...  Wonder Man  Wonder Woman   X-23  X-Man  \\\n",
      "0        NaN      good    65.0  ...       False         False  False  False   \n",
      "\n",
      "   Yellowjacket  Yellowjacket II   Ymir   Yoda  Zatanna   Zoom  \n",
      "0         False            False  False  False    False  False  \n",
      "\n",
      "[1 rows x 677 columns]\n"
     ]
    }
   ],
   "source": [
    "# Your code here (create more cells as needed)\n",
    "powers_df_reset = powers_df.reset_index()\n",
    "powers_df_reset.rename(columns={'index': 'name'}, inplace=True)\n",
    "heroes_and_powers_df = heroes_df.merge(powers_df_reset, on='name', how='inner')\n",
    "\n",
    "print(heroes_and_powers_df.head())"
   ]
  },
  {
   "cell_type": "code",
   "execution_count": 30,
   "metadata": {},
   "outputs": [
    {
     "name": "stdout",
     "output_type": "stream",
     "text": [
      "Names missing in heroes_df: {'Web Creation', 'Marksmanship', 'Energy Blasts', 'Animal Attributes', 'Omnipresent', 'Heat Resistance', 'Danger Sense', 'Gravity Control', 'Substance Secretion', 'Spatial Awareness', 'Gliding', 'Symbiote Costume', 'Vision - Cryo', 'Force Fields', 'Natural Armor', 'Element Control', 'Toxin and Disease Resistance', 'Animal Oriented Powers', 'Matter Absorption', 'Changing Armor', 'Odin Force', 'Empathy', 'Elasticity', 'Animal Control', 'Power Cosmic', 'Sonar', 'Weapon-based Powers', 'Stealth', 'Fire Control', 'Power Absorption', 'Insanity', 'Illusions', 'Peak Human Condition', 'Plant Control', 'Reflexes', 'Accelerated Healing', 'Size Changing', 'Lantern Power Ring', 'Teleportation', 'Regeneration', 'Durability', 'Hair Manipulation', 'Self-Sustenance', 'Cryokinesis', 'Radiation Absorption', 'Super Strength', 'Dexterity', 'Radar Sense', 'Electrokinesis', 'Clairvoyance', 'Wind Control', 'Echolocation', 'Hypnokinesis', 'The Force', 'Enhanced Touch', 'Omnitrix', 'Mind Blast', 'Time Manipulation', 'Anti-Gravity', 'Molecular Manipulation', 'Seismic Power', 'Dimensional Travel', 'Vision - Microscopic', 'Phasing', 'Radiation Control', 'Intangibility', 'Mind Control Resistance', 'Water Control', 'Vitakinesis', 'Banish', 'Nova Force', 'Melting', 'Technopath/Cyberpath', 'Thirstokinesis', 'Flight', 'Wallcrawling', 'Cold Resistance', 'Power Augmentation', 'Elemental Transmogrification', 'Shapeshifting', 'Enhanced Smell', 'Possession', 'Sonic Scream', 'Energy Resistance', 'Darkforce Manipulation', 'Energy Beams', 'Magic', 'Photographic Reflexes', 'Intuitive aptitude', 'Weather Control', 'Density Control', 'Energy Constructs', 'Sub-Mariner', 'Enhanced Senses', 'Resurrection', 'Vision - Telescopic', 'Enhanced Hearing', 'Death Touch', 'Energy Manipulation', 'Omnipotent', 'Audio Control', 'Summoning', 'Astral Projection', 'Magnetism', 'Phoenix Force', 'Speed Force', 'Psionic Powers', 'Energy Absorption', 'Grim Reaping', 'Telekinesis', 'Telepathy', 'Hyperkinesis', 'Levitation', 'Weapons Master', 'Fire Resistance', 'Adaptation', 'Jump', 'Agility', 'Enhanced Sight', 'Vision - Night', 'Mind Control', 'Animation', 'Power Sense', 'Enhanced Memory', 'Invisibility', 'Vision - Thermal', 'Invulnerability', 'Duplication', 'Heat Generation', 'Natural Weapons', 'Cloaking', 'Vision - X-Ray', 'Power Nullifier', 'Toxin and Disease Control', 'Biokinesis', 'Vision - Heat', 'Energy Armor', 'Portal Creation', 'Reality Warping', 'Omnilingualism', 'Molecular Combustion', 'Light Control', 'Underwater breathing', 'Probability Manipulation', 'Illumination', 'Astral Travel', 'Super Speed', 'Super Breath', 'Stamina', 'Projection', 'Camouflage', 'Qwardian Power Ring', 'Immortality', 'Molecular Dissipation', 'Radiation Immunity', 'Power Suit', 'Magic Resistance', 'Precognition', 'Time Travel', 'Dimensional Awareness', 'Longevity', 'Intelligence', 'Electrical Transport', 'Vision - Infrared', 'Terrakinesis', 'Telepathy Resistance'}\n",
      "Names missing in powers_df: {'Evil Deadpool', 'Vagabond', 'Dash', 'Doomsday', 'Ozymandias', 'Doctor Octopus', 'Darkman', 'Kyle Rayner', 'Darkstar', 'Garbage Man', 'Aquababy', 'Thunderbird', 'Ammo', 'Colossal Boy', 'Supergirl', 'Blackwulf', 'Sebastian Shaw', 'Moses Magnum', 'Bird-Brain', 'Giant-Man II', 'Cerebra', 'Cogliostro', 'Deathlok', 'Vision', 'Sandman', 'Box IV', 'Captain Universe', 'Big Daddy', 'Hellcat', 'Iron Monger', 'Blackwing', 'Evilhawk', 'Stormtrooper', 'Atom', 'Wiz Kid', 'Siren', 'Claire Bennet', 'Hela', 'Metron', 'Maya Herrera', 'Century', 'Agent Bob', 'Darkseid', 'Osiris', 'Air-Walker', 'Alan Scott', 'Jack of Hearts', 'Guy Gardner', 'Venom II', 'Legion', 'Raphael', 'Granny Goodness', 'Cheetah II', 'Plastic Lad', 'Sunspot', 'Yellowjacket', 'Havok', 'Zatanna', 'Hawkwoman III', 'Polaris', 'Box III', 'Angela', 'Steel', 'Cecilia Reyes', 'Batgirl VI', 'Bloodwraith', 'Captain Midnight', 'Triplicate Girl', 'Namor', 'Crimson Crusader', 'Onslaught', 'Sentry', 'Hal Jordan', 'Raven', 'Stephanie Powell', 'Buffy', 'Ghost Rider', 'Stardust', 'Green Goblin III', 'Cypher', 'Hercules', 'Walrus', 'Ariel', 'Black Panther', 'Longshot', 'Bane', 'Apocalypse', 'Cottonmouth', 'Hollow', 'Sif', 'Flash IV', 'Thing', 'Daredevil', 'Taskmaster', 'Black Mamba', 'Anti-Venom', 'Doctor Doom II', 'Red Arrow', 'Frigga', 'Leonardo', 'Jessica Cruz', 'Bumbleboy', 'Kang', 'Superman', 'Shadow King', 'Godzilla', 'Energy', 'Ardina', 'Katniss Everdeen', 'Beta Ray Bill', 'Arachne', 'Human Torch', 'T-1000', 'Gorilla Grodd', 'Kraven the Hunter', 'Aztar', 'Cheetah III', 'Utgard-Loki', 'Living Brain', 'Man-Wolf', 'Micro Lad', 'Thunderbird III', 'Anti-Spawn', 'Cheetah', 'Enchantress', 'Blizzard II', 'Medusa', 'Arclight', 'Quantum', 'Astro Boy', 'Doctor Doom', 'Ando Masahashi', 'Heat Wave', 'Absorbing Man', 'Silverclaw', 'Two-Face', 'Mephisto', 'Mantis', 'Daphne Powell', 'Agent Zero', 'She-Thing', 'Paul Blart', 'She-Hulk', 'Rick Flag', 'Elektra', 'Sobek', 'Speedball', 'Rachel Pirzad', 'King Kong', 'Wildfire', 'Morlun', 'Robin II', 'Ego', 'Pyro', 'Hydro-Man', 'Rorschach', 'Bill Harken', 'Black Adam', 'Cameron Hicks', 'Mohinder Suresh', 'Blue Beetle', 'Corsair', 'Killer Frost', 'Swarm', 'Mister Sinister', 'Cannonball', 'Cable', 'Black Goliath', 'Captain America', 'Chamber', 'Vanisher', 'Black Flash', 'Bloodaxe', 'Silk Spectre', 'Chameleon', 'Hawk', 'Amazo', 'Venom III', 'Purple Man', 'Ultron', 'Juggernaut', 'Venom', 'Abraxas', 'Moonstone', 'Spider-Girl', 'Shocker', 'Thanos', 'General Zod', 'Ant-Man II', 'Thundra', 'Batman II', 'Alien', 'Gamora', 'Bloodhawk', 'Luke Skywalker', 'Beetle', 'Ymir', 'Oracle', 'Mockingbird', 'Nite Owl II', \"Ra's Al Ghul\", 'Violator', 'Blue Beetle III', 'Chuck Norris', 'Mister Knife', 'Doc Samson', 'John Constantine', 'Dormammu', 'Gog', 'Donatello', 'Captain Epic', 'Scarlet Witch', 'Justice', 'Ripcord', 'Alex Mercer', 'Thor', 'Genesis', 'Hellboy', 'Redeemer II', 'Spawn', 'Carnage', 'One-Above-All', 'Silver Surfer', 'Electro', 'Penance II', 'Jyn Erso', 'Firebird', 'Iron Fist', 'Cat II', 'James T. Kirk', 'Michelangelo', 'Deadman', 'Batgirl III', 'Question', 'Leader', 'Titan', 'Phoenix', 'Songbird', 'Luna', 'Predator', 'Crystal', 'Nova', 'Allan Quatermain', 'Mysterio', 'Hawkeye', 'Ray', 'Copycat', 'Lyja', 'Martian Manhunter', 'Huntress', 'Niki Sanders', 'Scarecrow', 'Green Arrow', 'Silk', 'Wonder Woman', 'Omega Red', 'King Shark', 'Weapon XI', 'Vertigo II', 'Atlas', 'Cy-Gor', 'Angel Dust', 'Hellstorm', 'Big Man', 'Ms Marvel II', 'Captain Mar-vell', 'T-X', 'Watcher', 'Proto-Goblin', 'Wondra', 'Superboy', 'Doctor Strange', 'Warpath', 'Jason Bourne', 'Silk Spectre II', 'Aurora', 'Morph', 'Spyke', 'Wasp', 'Hulk', 'John Stewart', 'Scarlet Spider', 'Molten Man', 'Chromos', 'The Cape', 'Thunderbird II', 'Batman', 'Batgirl', 'Etrigan', 'Lady Deathstrike', 'Blue Beetle II', 'Offspring', 'Static', 'Odin', 'Shriek', 'Hyperion', 'Spider-Woman', 'T-850', 'Colin Wagner', 'Kraven II', 'Atom III', 'Speedy', 'Monica Dawson', 'Venompool', 'Nebula', 'Savage Dragon', 'Warbird', 'Curse', 'Lady Bullseye', 'Franklin Richards', 'Blade', 'Ares', 'Catwoman', 'Shadowcat', 'Siren II', 'Brainiac', 'Psylocke', 'Goku', 'Red Hulk', 'Firelord', 'Green Goblin II', 'Professor X', 'Domino', 'Spider-Gwen', 'Hawkwoman', 'Anti-Monitor', 'Alex Woolsly', 'Iron Man', 'Misfit', 'Howard the Duck', 'Bird-Man II', 'Ethan Hunt', 'Fixer', 'Jean Grey', 'Jennifer Kale', 'Steppenwolf', 'Captain Hindsight', 'Nightwing', 'Toxin', 'Captain Marvel', 'Krypto', 'Bishop', 'Micah Sanders', 'Wolverine', 'Black Abbott', 'Gravity', 'Emma Frost', 'Marvel Girl', 'Beyonder', 'Ajax', 'Rambo', 'Rocket Raccoon', 'Impulse', 'Sylar', 'Demogoblin', 'Ultragirl', 'Tigra', 'Brundlefly', 'Snake-Eyes', 'Magneto', 'Bizarro', 'Fallen One II', 'Captain Planet', 'Jean-Luc Picard', 'Beak', 'Mister Mxyzptlk', 'MODOK', 'Razor-Fist II', 'Greedo', 'Hobgoblin', 'Giganta', 'Professor Zoom', 'Binary', 'Black Widow II', 'Sabretooth', 'Man of Miracles', 'Donna Troy', 'Isis', 'Galactus', 'Quill', 'Harry Potter', 'Warp', 'John Wraith', 'Destroyer', 'Zoom', 'Phantom', 'Robin III', 'Elastigirl', 'Franklin Storm', 'Jesse Quick', 'Black Canary', 'Wyatt Wingfoot', 'Scarlet Spider II', 'Nina Theroux', 'Ghost Rider II', 'Superboy-Prime', 'Man-Thing', 'Tiger Shark', 'Jigsaw', 'Robin V', 'Northstar', 'Rhino', 'Hawkeye II', 'Penance I', 'Bushido', 'War Machine', 'Yellow Claw', 'Banshee', 'Callisto', 'Matt Parkman', 'Atom IV', 'Lobo', 'Mister Fantastic', 'Simon Baz', 'Wolfsbane', 'Kathryn Janeway', 'Mogo', 'Spider-Woman II', 'Batwoman V', 'Penguin', 'JJ Powell', 'Luke Cage', 'Punisher', 'Deadshot', 'Captain Atom', 'Flash Gordon', 'Jar Jar Binks', 'Kingpin', 'Naruto Uzumaki', 'Groot', 'Abe Sapien', 'Arsenal', 'Ronin', 'Warlock', 'Power Girl', 'Skaar', 'Angel', 'Han Solo', 'Boomer', 'Thor Girl', 'Armor', 'Jubilee', 'Brainiac 5', 'Batgirl IV', 'Tinkerer', 'Clock King', 'Exodus', 'Black Cat', 'Jack-Jack', 'Storm', 'Triton', 'Meteorite', 'Jim Powell', 'Bird-Man', 'Bantam', 'Mimic', 'Lightning Lad', 'DL Hawkins', 'Billy Kincaid', 'The Comedian', 'Darkhawk', 'Hawkgirl', 'Fabian Cortez', 'Liz Sherman', 'Adam Strange', 'Dagger', 'Azazel', 'Vegeta', 'Kevin 11', 'Scorpion', 'T-800', 'Bionic Woman', 'Darkside', 'Peter Petrelli', 'X-23', 'Drax the Destroyer', 'Goblin Queen', 'Starfire', 'Elongated Man', 'Tracy Strauss', 'Hit-Girl', 'Shadow Lass', 'Goliath IV', 'Captain Britain', 'Stargirl', 'Solomon Grundy', 'Beast', 'White Canary', 'Deathstroke', 'Vulture', 'Parademon', 'Hawkwoman II', 'Siryn', 'Abin Sur', 'Atom Girl', 'Swamp Thing', 'Angel Salvadore', 'Toad', 'Rey', 'Bling!', 'Cyborg Superman', 'Star-Lord', 'Nick Fury', 'James Bond', 'Captain Cold', 'Thunderstrike', 'Captain Marvel II', 'Frenzy', 'Iceman', 'Red Hood', 'Maverick', 'Miss Martian', 'Metallo', 'Vindicator', 'Nathan Petrelli', 'Valerie Hart', 'Phantom Girl', 'ERG-1', 'Flash III', 'Kid Flash II', 'Riddler', 'Synch', 'Elle Bishop', 'Hope Summers', 'Jolt', 'Fin Fang Foom', 'Deadpool', 'Mister Freeze', 'Adam Monroe', 'Namorita', 'Q', 'Tempest', 'Namora', 'Beast Boy', 'Cyclops', 'Snowbird', 'Vixen', 'Mister Zsasz', 'Husk', 'Ben 10', 'Faora', 'Birdman', 'Feral', 'Diamondback', 'Junkpile', 'Rip Hunter', 'Spider-Woman III', 'Mystique', 'Harley Quinn', 'Blob', 'Overtkill', 'Violet Parr', 'One Punch Man', 'Kylo Ren', 'Gary Bell', 'Indigo', 'Black Manta', 'Moon Knight', 'Kid Flash', 'Lex Luthor', 'Master Chief', 'Cyborg', 'Kilowog', 'Multiple Man', 'Guardian', 'Monarch', 'Sage', 'Spectre', 'Boba Fett', 'Bomb Queen', 'Wonder Man', 'Spider-Carnage', 'Aqualad', 'Klaw', 'Stacy X', 'Brother Voodoo', 'Goliath', 'Ant-Man', 'Box', 'Darth Maul', 'Magog', 'Robin', 'Green Goblin IV', 'Batgirl V', 'Redeemer III', 'Crimson Dynamo', 'Danny Cooper', 'Blink', 'Johann Krauss', 'Black Widow', 'Giant-Man', 'Jack Bauer', 'Scorpia', 'Mr Incredible', 'Battlestar', 'Match', 'Sauron', 'A-Bomb', 'Doctor Fate', 'Atom II', 'Poison Ivy', 'Mandarin', 'Abomination', 'Black Bolt', 'Leech', 'Killer Croc', 'Gambit', 'Luke Campbell', 'Mach-IV', 'Alfred Pennyworth', 'Meltdown', 'Changeling', 'Hawkman', 'Black Lightning', 'Hiro Nakamura', 'Nightcrawler', 'Spock', 'Archangel', 'Plantman', 'Maxima', 'Bullseye', 'Master Brood', 'Judge Dredd', 'Blizzard', 'Flash', 'Red Mist', 'Karate Kid', 'Magus', 'Trickster', 'Lightning Lord', 'Plastique', 'Loki', 'Cloak', 'Animal Man', 'Sasquatch', 'Machine Man', 'Jessica Jones', 'Azrael', 'Red Skull', 'Trigon', 'White Queen', 'Doppelganger', 'Sinestro', 'Indiana Jones', 'Bolt', 'Blackout', 'Minna Murray', 'Invisible Woman', 'Flash II', 'Hybrid', 'Fighting Spirit', 'Spider-Man', 'Data', 'Penance', 'Green Goblin', 'Mr Immortal', 'Spider-Woman IV', 'Dazzler', 'Mera', 'Boom-Boom', 'Rogue', 'Valkyrie', 'Wonder Girl', 'Blaquesmith', 'Aquaman', 'Dr Manhattan', 'Ink', 'Living Tribunal', 'Vision II', 'Winter Soldier', 'Black Knight III', 'Forge', 'Vibe', 'X-Man', 'Shang-Chi', 'Renata Soliz', 'Shatterstar', 'Kick-Ass', 'Big Barda', 'Quicksilver', 'Bumblebee', 'Jessica Sanders', 'Joker', 'Falcon', 'Negasonic Teenage Warhead', 'Firestorm', 'Cat', 'Agent 13', 'Red Robin', 'Vulcan', 'Plastic Man', 'Booster Gold', 'Robin VI', 'Annihilus', 'Space Ghost', 'Yellowjacket II', 'Hancock', 'Darth Vader', 'Red Tornado', 'Light Lass', 'Lizard', 'Kool-Aid Man', 'Colossus', 'Man-Bat', 'Power Man', 'K-2SO', 'Firestar', 'Moloch', 'Yoda', 'Gladiator', 'Shrinking Violet', 'Clea', 'Citizen Steel', 'Metamorpho'}\n"
     ]
    }
   ],
   "source": [
    "# Get unique superhero names from heroes_df\n",
    "heroes_names = set(heroes_df['name'])\n",
    "\n",
    "# Get unique superhero names from powers_df (reset index first)\n",
    "powers_names = set(powers_df.reset_index()['index'])\n",
    "\n",
    "# Find names that are in one dataset but not the other\n",
    "missing_in_heroes = powers_names - heroes_names\n",
    "missing_in_powers = heroes_names - powers_names\n",
    "\n",
    "print(\"Names missing in heroes_df:\", missing_in_heroes)\n",
    "print(\"Names missing in powers_df:\", missing_in_powers)"
   ]
  },
  {
   "cell_type": "code",
   "execution_count": 32,
   "metadata": {},
   "outputs": [
    {
     "name": "stdout",
     "output_type": "stream",
     "text": [
      "Shape of heroes_and_powers_df: (1, 677)\n"
     ]
    }
   ],
   "source": [
    "# Merge the cleaned datasets on the 'name' column\n",
    "heroes_and_powers_df = heroes_df.merge(powers_df_reset, on='name', how='inner')\n",
    "\n",
    "# Verify the shape of the resulting DataFrame\n",
    "print(\"Shape of heroes_and_powers_df:\", heroes_and_powers_df.shape)"
   ]
  },
  {
   "cell_type": "code",
   "execution_count": 43,
   "metadata": {},
   "outputs": [
    {
     "name": "stdout",
     "output_type": "stream",
     "text": [
      "1\n",
      "734\n",
      "167\n",
      "0\n",
      "0\n",
      "{'Evil Deadpool', 'Vagabond', 'Dash', 'Doomsday', 'Ozymandias', 'Doctor Octopus', 'Darkman', 'Kyle Rayner', 'Darkstar', 'Garbage Man', 'Aquababy', 'Thunderbird', 'Ammo', 'Colossal Boy', 'Supergirl', 'Blackwulf', 'Sebastian Shaw', 'Moses Magnum', 'Bird-Brain', 'Giant-Man II', 'Cerebra', 'Cogliostro', 'Deathlok', 'Vision', 'Sandman', 'Box IV', 'Captain Universe', 'Big Daddy', 'Hellcat', 'Iron Monger', 'Blackwing', 'Evilhawk', 'Stormtrooper', 'Atom', 'Wiz Kid', 'Siren', 'Claire Bennet', 'Hela', 'Metron', 'Maya Herrera', 'Century', 'Agent Bob', 'Darkseid', 'Osiris', 'Air-Walker', 'Alan Scott', 'Jack of Hearts', 'Guy Gardner', 'Venom II', 'Legion', 'Raphael', 'Granny Goodness', 'Cheetah II', 'Plastic Lad', 'Sunspot', 'Yellowjacket', 'Havok', 'Zatanna', 'Hawkwoman III', 'Polaris', 'Box III', 'Angela', 'Steel', 'Cecilia Reyes', 'Batgirl VI', 'Bloodwraith', 'Captain Midnight', 'Triplicate Girl', 'Namor', 'Crimson Crusader', 'Onslaught', 'Sentry', 'Hal Jordan', 'Raven', 'Stephanie Powell', 'Buffy', 'Ghost Rider', 'Stardust', 'Green Goblin III', 'Cypher', 'Hercules', 'Walrus', 'Ariel', 'Black Panther', 'Longshot', 'Bane', 'Apocalypse', 'Cottonmouth', 'Hollow', 'Sif', 'Flash IV', 'Thing', 'Daredevil', 'Taskmaster', 'Black Mamba', 'Anti-Venom', 'Doctor Doom II', 'Red Arrow', 'Frigga', 'Leonardo', 'Jessica Cruz', 'Bumbleboy', 'Kang', 'Superman', 'Shadow King', 'Godzilla', 'Energy', 'Ardina', 'Katniss Everdeen', 'Beta Ray Bill', 'Arachne', 'Human Torch', 'T-1000', 'Gorilla Grodd', 'Kraven the Hunter', 'Aztar', 'Cheetah III', 'Utgard-Loki', 'Living Brain', 'Man-Wolf', 'Micro Lad', 'Thunderbird III', 'Anti-Spawn', 'Cheetah', 'Enchantress', 'Blizzard II', 'Medusa', 'Arclight', 'Quantum', 'Astro Boy', 'Doctor Doom', 'Ando Masahashi', 'Heat Wave', 'Absorbing Man', 'Silverclaw', 'Two-Face', 'Mephisto', 'Mantis', 'Daphne Powell', 'Agent Zero', 'She-Thing', 'Paul Blart', 'She-Hulk', 'Rick Flag', 'Elektra', 'Sobek', 'Speedball', 'Rachel Pirzad', 'King Kong', 'Wildfire', 'Morlun', 'Robin II', 'Ego', 'Pyro', 'Hydro-Man', 'Rorschach', 'Bill Harken', 'Black Adam', 'Cameron Hicks', 'Mohinder Suresh', 'Blue Beetle', 'Corsair', 'Killer Frost', 'Swarm', 'Mister Sinister', 'Cannonball', 'Cable', 'Black Goliath', 'Captain America', 'Chamber', 'Vanisher', 'Black Flash', 'Bloodaxe', 'Silk Spectre', 'Chameleon', 'Hawk', 'Amazo', 'Venom III', 'Purple Man', 'Ultron', 'Juggernaut', 'Venom', 'Abraxas', 'Moonstone', 'Spider-Girl', 'Shocker', 'Thanos', 'General Zod', 'Ant-Man II', 'Thundra', 'Batman II', 'Alien', 'Gamora', 'Bloodhawk', 'Luke Skywalker', 'Beetle', 'Ymir', 'Oracle', 'Mockingbird', 'Nite Owl II', \"Ra's Al Ghul\", 'Violator', 'Blue Beetle III', 'Chuck Norris', 'Mister Knife', 'Doc Samson', 'John Constantine', 'Dormammu', 'Gog', 'Donatello', 'Captain Epic', 'Scarlet Witch', 'Justice', 'Ripcord', 'Alex Mercer', 'Thor', 'Genesis', 'Hellboy', 'Redeemer II', 'Spawn', 'Carnage', 'One-Above-All', 'Silver Surfer', 'Electro', 'Penance II', 'Jyn Erso', 'Firebird', 'Iron Fist', 'Cat II', 'James T. Kirk', 'Michelangelo', 'Deadman', 'Batgirl III', 'Question', 'Leader', 'Titan', 'Phoenix', 'Songbird', 'Luna', 'Predator', 'Crystal', 'Nova', 'Allan Quatermain', 'Mysterio', 'Hawkeye', 'Ray', 'Copycat', 'Lyja', 'Martian Manhunter', 'Huntress', 'Niki Sanders', 'Scarecrow', 'Green Arrow', 'Silk', 'Wonder Woman', 'Omega Red', 'King Shark', 'Weapon XI', 'Vertigo II', 'Atlas', 'Cy-Gor', 'Angel Dust', 'Hellstorm', 'Big Man', 'Ms Marvel II', 'Captain Mar-vell', 'T-X', 'Watcher', 'Proto-Goblin', 'Wondra', 'Superboy', 'Doctor Strange', 'Warpath', 'Jason Bourne', 'Silk Spectre II', 'Aurora', 'Morph', 'Spyke', 'Wasp', 'Hulk', 'John Stewart', 'Scarlet Spider', 'Molten Man', 'Chromos', 'The Cape', 'Thunderbird II', 'Batman', 'Batgirl', 'Etrigan', 'Lady Deathstrike', 'Blue Beetle II', 'Offspring', 'Static', 'Odin', 'Shriek', 'Hyperion', 'Spider-Woman', 'T-850', 'Colin Wagner', 'Kraven II', 'Atom III', 'Speedy', 'Monica Dawson', 'Venompool', 'Nebula', 'Savage Dragon', 'Warbird', 'Curse', 'Lady Bullseye', 'Franklin Richards', 'Blade', 'Ares', 'Catwoman', 'Shadowcat', 'Siren II', 'Brainiac', 'Psylocke', 'Goku', 'Red Hulk', 'Firelord', 'Green Goblin II', 'Professor X', 'Domino', 'Spider-Gwen', 'Hawkwoman', 'Anti-Monitor', 'Alex Woolsly', 'Iron Man', 'Misfit', 'Howard the Duck', 'Bird-Man II', 'Ethan Hunt', 'Fixer', 'Jean Grey', 'Jennifer Kale', 'Steppenwolf', 'Captain Hindsight', 'Nightwing', 'Toxin', 'Captain Marvel', 'Krypto', 'Bishop', 'Micah Sanders', 'Wolverine', 'Black Abbott', 'Gravity', 'Emma Frost', 'Marvel Girl', 'Beyonder', 'Ajax', 'Rambo', 'Rocket Raccoon', 'Impulse', 'Sylar', 'Demogoblin', 'Ultragirl', 'Tigra', 'Brundlefly', 'Snake-Eyes', 'Magneto', 'Bizarro', 'Fallen One II', 'Captain Planet', 'Jean-Luc Picard', 'Beak', 'Mister Mxyzptlk', 'MODOK', 'Razor-Fist II', 'Greedo', 'Hobgoblin', 'Giganta', 'Professor Zoom', 'Binary', 'Black Widow II', 'Sabretooth', 'Man of Miracles', 'Donna Troy', 'Isis', 'Galactus', 'Quill', 'Harry Potter', 'Warp', 'John Wraith', 'Destroyer', 'Zoom', 'Phantom', 'Robin III', 'Elastigirl', 'Franklin Storm', 'Jesse Quick', 'Black Canary', 'Wyatt Wingfoot', 'Scarlet Spider II', 'Nina Theroux', 'Ghost Rider II', 'Superboy-Prime', 'Man-Thing', 'Tiger Shark', 'Jigsaw', 'Robin V', 'Northstar', 'Rhino', 'Hawkeye II', 'Penance I', 'Bushido', 'War Machine', 'Yellow Claw', 'Banshee', 'Callisto', 'Matt Parkman', 'Atom IV', 'Lobo', 'Mister Fantastic', 'Simon Baz', 'Wolfsbane', 'Kathryn Janeway', 'Mogo', 'Spider-Woman II', 'Batwoman V', 'Penguin', 'JJ Powell', 'Luke Cage', 'Punisher', 'Deadshot', 'Captain Atom', 'Flash Gordon', 'Jar Jar Binks', 'Kingpin', 'Naruto Uzumaki', 'Groot', 'Abe Sapien', 'Arsenal', 'Ronin', 'Warlock', 'Power Girl', 'Skaar', 'Angel', 'Han Solo', 'Boomer', 'Thor Girl', 'Armor', 'Jubilee', 'Brainiac 5', 'Batgirl IV', 'Tinkerer', 'Clock King', 'Exodus', 'Black Cat', 'Jack-Jack', 'Storm', 'Triton', 'Meteorite', 'Jim Powell', 'Bird-Man', 'Bantam', 'Mimic', 'Lightning Lad', 'DL Hawkins', 'Billy Kincaid', 'The Comedian', 'Darkhawk', 'Hawkgirl', 'Fabian Cortez', 'Liz Sherman', 'Adam Strange', 'Dagger', 'Azazel', 'Vegeta', 'Kevin 11', 'Scorpion', 'T-800', 'Bionic Woman', 'Darkside', 'Peter Petrelli', 'X-23', 'Drax the Destroyer', 'Goblin Queen', 'Starfire', 'Elongated Man', 'Tracy Strauss', 'Hit-Girl', 'Shadow Lass', 'Goliath IV', 'Captain Britain', 'Stargirl', 'Solomon Grundy', 'Beast', 'White Canary', 'Deathstroke', 'Vulture', 'Parademon', 'Hawkwoman II', 'Siryn', 'Abin Sur', 'Atom Girl', 'Swamp Thing', 'Angel Salvadore', 'Toad', 'Rey', 'Bling!', 'Cyborg Superman', 'Star-Lord', 'Nick Fury', 'James Bond', 'Captain Cold', 'Thunderstrike', 'Captain Marvel II', 'Frenzy', 'Iceman', 'Red Hood', 'Maverick', 'Miss Martian', 'Metallo', 'Vindicator', 'Nathan Petrelli', 'Valerie Hart', 'Phantom Girl', 'ERG-1', 'Flash III', 'Kid Flash II', 'Riddler', 'Synch', 'Elle Bishop', 'Hope Summers', 'Jolt', 'Fin Fang Foom', 'Deadpool', 'Mister Freeze', 'Adam Monroe', 'Namorita', 'Q', 'Tempest', 'Namora', 'Beast Boy', 'Cyclops', 'Snowbird', 'Vixen', 'Mister Zsasz', 'Husk', 'Ben 10', 'Faora', 'Birdman', 'Feral', 'Diamondback', 'Junkpile', 'Rip Hunter', 'Spider-Woman III', 'Mystique', 'Harley Quinn', 'Blob', 'Overtkill', 'Violet Parr', 'One Punch Man', 'Kylo Ren', 'Gary Bell', 'Indigo', 'Black Manta', 'Moon Knight', 'Kid Flash', 'Lex Luthor', 'Master Chief', 'Cyborg', 'Kilowog', 'Multiple Man', 'Guardian', 'Monarch', 'Sage', 'Spectre', 'Boba Fett', 'Bomb Queen', 'Wonder Man', 'Spider-Carnage', 'Aqualad', 'Klaw', 'Stacy X', 'Brother Voodoo', 'Goliath', 'Ant-Man', 'Box', 'Darth Maul', 'Magog', 'Robin', 'Green Goblin IV', 'Batgirl V', 'Redeemer III', 'Crimson Dynamo', 'Danny Cooper', 'Blink', 'Johann Krauss', 'Black Widow', 'Giant-Man', 'Jack Bauer', 'Scorpia', 'Mr Incredible', 'Battlestar', 'Match', 'Sauron', 'A-Bomb', 'Doctor Fate', 'Atom II', 'Poison Ivy', 'Mandarin', 'Abomination', 'Black Bolt', 'Leech', 'Killer Croc', 'Gambit', 'Luke Campbell', 'Mach-IV', 'Alfred Pennyworth', 'Meltdown', 'Changeling', 'Hawkman', 'Black Lightning', 'Hiro Nakamura', 'Nightcrawler', 'Spock', 'Archangel', 'Plantman', 'Maxima', 'Bullseye', 'Master Brood', 'Judge Dredd', 'Blizzard', 'Flash', 'Red Mist', 'Karate Kid', 'Magus', 'Trickster', 'Lightning Lord', 'Plastique', 'Loki', 'Cloak', 'Animal Man', 'Sasquatch', 'Machine Man', 'Jessica Jones', 'Azrael', 'Red Skull', 'Trigon', 'White Queen', 'Doppelganger', 'Sinestro', 'Indiana Jones', 'Bolt', 'Blackout', 'Minna Murray', 'Invisible Woman', 'Flash II', 'Hybrid', 'Fighting Spirit', 'Spider-Man', 'Data', 'Penance', 'Green Goblin', 'Mr Immortal', 'Spider-Woman IV', 'Dazzler', 'Mera', 'Boom-Boom', 'Rogue', 'Valkyrie', 'Wonder Girl', 'Blaquesmith', 'Aquaman', 'Dr Manhattan', 'Ink', 'Living Tribunal', 'Vision II', 'Winter Soldier', 'Black Knight III', 'Forge', 'Vibe', 'X-Man', 'Shang-Chi', 'Renata Soliz', 'Shatterstar', 'Kick-Ass', 'Big Barda', 'Quicksilver', 'Bumblebee', 'Jessica Sanders', 'Joker', 'Falcon', 'Negasonic Teenage Warhead', 'Firestorm', 'Cat', 'Agent 13', 'Red Robin', 'Vulcan', 'Plastic Man', 'Booster Gold', 'Robin VI', 'Annihilus', 'Space Ghost', 'Yellowjacket II', 'Hancock', 'Darth Vader', 'Red Tornado', 'Light Lass', 'Lizard', 'Kool-Aid Man', 'Colossus', 'Man-Bat', 'Power Man', 'K-2SO', 'Firestar', 'Moloch', 'Yoda', 'Gladiator', 'Shrinking Violet', 'Clea', 'Citizen Steel', 'Metamorpho'}\n"
     ]
    }
   ],
   "source": [
    "print(heroes_and_powers_df.shape[0])\n",
    "print(heroes_df.shape[0])  # Expected: 667 (original number of heroes)\n",
    "print(powers_df_reset.shape[0])  # Expected: 667 (if it matches heroes_df)\n",
    "print(heroes_df['name'].isna().sum())  # Should be 0\n",
    "print(powers_df_reset['name'].isna().sum())  # Should be 0\n",
    "print(set(heroes_df['name']) - set(powers_df_reset['name']))\n",
    "heroes_and_powers_df = heroes_df.merge(powers_df_reset, on='name', how='inner')\n",
    "heroes_and_powers_df = heroes_df.merge(powers_df_reset, on='name', how='left')\n"
   ]
  },
  {
   "cell_type": "markdown",
   "metadata": {},
   "source": [
    "Run the code below to check your work:"
   ]
  },
  {
   "cell_type": "code",
   "execution_count": 44,
   "metadata": {},
   "outputs": [
    {
     "ename": "AssertionError",
     "evalue": "",
     "output_type": "error",
     "traceback": [
      "\u001b[1;31m---------------------------------------------------------------------------\u001b[0m",
      "\u001b[1;31mAssertionError\u001b[0m                            Traceback (most recent call last)",
      "Cell \u001b[1;32mIn[44], line 7\u001b[0m\n\u001b[0;32m      4\u001b[0m \u001b[38;5;28;01massert\u001b[39;00m \u001b[38;5;28mtype\u001b[39m(heroes_and_powers_df) \u001b[38;5;241m==\u001b[39m pd\u001b[38;5;241m.\u001b[39mDataFrame\n\u001b[0;32m      6\u001b[0m \u001b[38;5;66;03m# Confirms you have the right number of rows\u001b[39;00m\n\u001b[1;32m----> 7\u001b[0m \u001b[38;5;28;01massert\u001b[39;00m heroes_and_powers_df\u001b[38;5;241m.\u001b[39mshape[\u001b[38;5;241m0\u001b[39m] \u001b[38;5;241m==\u001b[39m \u001b[38;5;241m647\u001b[39m\n\u001b[0;32m      9\u001b[0m \u001b[38;5;66;03m# Confirms you have the necessary columns\u001b[39;00m\n\u001b[0;32m     10\u001b[0m \u001b[38;5;66;03m# (If you modified the value of powers_df along the way, you might need to\u001b[39;00m\n\u001b[0;32m     11\u001b[0m \u001b[38;5;66;03m# modify this test. We are checking that all of the powers are present as\u001b[39;00m\n\u001b[0;32m     12\u001b[0m \u001b[38;5;66;03m# columns.)\u001b[39;00m\n\u001b[0;32m     13\u001b[0m \u001b[38;5;28;01massert\u001b[39;00m \u001b[38;5;28mall\u001b[39m (power \u001b[38;5;129;01min\u001b[39;00m heroes_and_powers_df\u001b[38;5;241m.\u001b[39mcolumns \u001b[38;5;28;01mfor\u001b[39;00m power \u001b[38;5;129;01min\u001b[39;00m powers_df\u001b[38;5;241m.\u001b[39mindex)\n",
      "\u001b[1;31mAssertionError\u001b[0m: "
     ]
    }
   ],
   "source": [
    "# Run this cell without changes\n",
    "\n",
    "# Confirms you have created a DataFrame with the specified name\n",
    "assert type(heroes_and_powers_df) == pd.DataFrame\n",
    "\n",
    "# Confirms you have the right number of rows\n",
    "assert heroes_and_powers_df.shape[0] == 647\n",
    "\n",
    "# Confirms you have the necessary columns\n",
    "# (If you modified the value of powers_df along the way, you might need to\n",
    "# modify this test. We are checking that all of the powers are present as\n",
    "# columns.)\n",
    "assert all (power in heroes_and_powers_df.columns for power in powers_df.index)\n",
    "# (If you modified the value of heroes_df along the way, you might need to\n",
    "# modify this as well. We are checking that all of the attribute columns from\n",
    "# heroes_df are present as columns in the joined df)\n",
    "assert all (attribute in heroes_and_powers_df.columns for attribute in heroes_df.columns)"
   ]
  },
  {
   "cell_type": "markdown",
   "metadata": {},
   "source": [
    "Now that we have created a joined dataframe, we can aggregate the number of superpowers by superhero. This code is written for you:"
   ]
  },
  {
   "cell_type": "code",
   "execution_count": 25,
   "metadata": {},
   "outputs": [
    {
     "ename": "KeyError",
     "evalue": "'Agility'",
     "output_type": "error",
     "traceback": [
      "\u001b[1;31m---------------------------------------------------------------------------\u001b[0m",
      "\u001b[1;31mKeyError\u001b[0m                                  Traceback (most recent call last)",
      "File \u001b[1;32mC:\\ProgramData\\anaconda3\\Lib\\site-packages\\pandas\\core\\indexes\\base.py:3805\u001b[0m, in \u001b[0;36mIndex.get_loc\u001b[1;34m(self, key)\u001b[0m\n\u001b[0;32m   3804\u001b[0m \u001b[38;5;28;01mtry\u001b[39;00m:\n\u001b[1;32m-> 3805\u001b[0m     \u001b[38;5;28;01mreturn\u001b[39;00m \u001b[38;5;28mself\u001b[39m\u001b[38;5;241m.\u001b[39m_engine\u001b[38;5;241m.\u001b[39mget_loc(casted_key)\n\u001b[0;32m   3806\u001b[0m \u001b[38;5;28;01mexcept\u001b[39;00m \u001b[38;5;167;01mKeyError\u001b[39;00m \u001b[38;5;28;01mas\u001b[39;00m err:\n",
      "File \u001b[1;32mindex.pyx:167\u001b[0m, in \u001b[0;36mpandas._libs.index.IndexEngine.get_loc\u001b[1;34m()\u001b[0m\n",
      "File \u001b[1;32mindex.pyx:196\u001b[0m, in \u001b[0;36mpandas._libs.index.IndexEngine.get_loc\u001b[1;34m()\u001b[0m\n",
      "File \u001b[1;32mpandas\\\\_libs\\\\hashtable_class_helper.pxi:7081\u001b[0m, in \u001b[0;36mpandas._libs.hashtable.PyObjectHashTable.get_item\u001b[1;34m()\u001b[0m\n",
      "File \u001b[1;32mpandas\\\\_libs\\\\hashtable_class_helper.pxi:7089\u001b[0m, in \u001b[0;36mpandas._libs.hashtable.PyObjectHashTable.get_item\u001b[1;34m()\u001b[0m\n",
      "\u001b[1;31mKeyError\u001b[0m: 'Agility'",
      "\nThe above exception was the direct cause of the following exception:\n",
      "\u001b[1;31mKeyError\u001b[0m                                  Traceback (most recent call last)",
      "Cell \u001b[1;32mIn[25], line 6\u001b[0m\n\u001b[0;32m      1\u001b[0m \u001b[38;5;66;03m# Run this cell without changes\u001b[39;00m\n\u001b[0;32m      2\u001b[0m \n\u001b[0;32m      3\u001b[0m \u001b[38;5;66;03m# Note: we can use sum() with True and False values and they will\u001b[39;00m\n\u001b[0;32m      4\u001b[0m \u001b[38;5;66;03m# automatically be cast to 1s and 0s\u001b[39;00m\n\u001b[0;32m      5\u001b[0m heroes_and_powers_df[\u001b[38;5;124m\"\u001b[39m\u001b[38;5;124mPower Count\u001b[39m\u001b[38;5;124m\"\u001b[39m] \u001b[38;5;241m=\u001b[39m \u001b[38;5;28msum\u001b[39m(\n\u001b[1;32m----> 6\u001b[0m     [heroes_and_powers_df[power_name] \u001b[38;5;28;01mfor\u001b[39;00m power_name \u001b[38;5;129;01min\u001b[39;00m powers_df\u001b[38;5;241m.\u001b[39mindex]\n\u001b[0;32m      7\u001b[0m )\n\u001b[0;32m      8\u001b[0m heroes_and_powers_df\n",
      "File \u001b[1;32mC:\\ProgramData\\anaconda3\\Lib\\site-packages\\pandas\\core\\frame.py:4102\u001b[0m, in \u001b[0;36mDataFrame.__getitem__\u001b[1;34m(self, key)\u001b[0m\n\u001b[0;32m   4100\u001b[0m \u001b[38;5;28;01mif\u001b[39;00m \u001b[38;5;28mself\u001b[39m\u001b[38;5;241m.\u001b[39mcolumns\u001b[38;5;241m.\u001b[39mnlevels \u001b[38;5;241m>\u001b[39m \u001b[38;5;241m1\u001b[39m:\n\u001b[0;32m   4101\u001b[0m     \u001b[38;5;28;01mreturn\u001b[39;00m \u001b[38;5;28mself\u001b[39m\u001b[38;5;241m.\u001b[39m_getitem_multilevel(key)\n\u001b[1;32m-> 4102\u001b[0m indexer \u001b[38;5;241m=\u001b[39m \u001b[38;5;28mself\u001b[39m\u001b[38;5;241m.\u001b[39mcolumns\u001b[38;5;241m.\u001b[39mget_loc(key)\n\u001b[0;32m   4103\u001b[0m \u001b[38;5;28;01mif\u001b[39;00m is_integer(indexer):\n\u001b[0;32m   4104\u001b[0m     indexer \u001b[38;5;241m=\u001b[39m [indexer]\n",
      "File \u001b[1;32mC:\\ProgramData\\anaconda3\\Lib\\site-packages\\pandas\\core\\indexes\\base.py:3812\u001b[0m, in \u001b[0;36mIndex.get_loc\u001b[1;34m(self, key)\u001b[0m\n\u001b[0;32m   3807\u001b[0m     \u001b[38;5;28;01mif\u001b[39;00m \u001b[38;5;28misinstance\u001b[39m(casted_key, \u001b[38;5;28mslice\u001b[39m) \u001b[38;5;129;01mor\u001b[39;00m (\n\u001b[0;32m   3808\u001b[0m         \u001b[38;5;28misinstance\u001b[39m(casted_key, abc\u001b[38;5;241m.\u001b[39mIterable)\n\u001b[0;32m   3809\u001b[0m         \u001b[38;5;129;01mand\u001b[39;00m \u001b[38;5;28many\u001b[39m(\u001b[38;5;28misinstance\u001b[39m(x, \u001b[38;5;28mslice\u001b[39m) \u001b[38;5;28;01mfor\u001b[39;00m x \u001b[38;5;129;01min\u001b[39;00m casted_key)\n\u001b[0;32m   3810\u001b[0m     ):\n\u001b[0;32m   3811\u001b[0m         \u001b[38;5;28;01mraise\u001b[39;00m InvalidIndexError(key)\n\u001b[1;32m-> 3812\u001b[0m     \u001b[38;5;28;01mraise\u001b[39;00m \u001b[38;5;167;01mKeyError\u001b[39;00m(key) \u001b[38;5;28;01mfrom\u001b[39;00m \u001b[38;5;21;01merr\u001b[39;00m\n\u001b[0;32m   3813\u001b[0m \u001b[38;5;28;01mexcept\u001b[39;00m \u001b[38;5;167;01mTypeError\u001b[39;00m:\n\u001b[0;32m   3814\u001b[0m     \u001b[38;5;66;03m# If we have a listlike key, _check_indexing_error will raise\u001b[39;00m\n\u001b[0;32m   3815\u001b[0m     \u001b[38;5;66;03m#  InvalidIndexError. Otherwise we fall through and re-raise\u001b[39;00m\n\u001b[0;32m   3816\u001b[0m     \u001b[38;5;66;03m#  the TypeError.\u001b[39;00m\n\u001b[0;32m   3817\u001b[0m     \u001b[38;5;28mself\u001b[39m\u001b[38;5;241m.\u001b[39m_check_indexing_error(key)\n",
      "\u001b[1;31mKeyError\u001b[0m: 'Agility'"
     ]
    }
   ],
   "source": [
    "# Run this cell without changes\n",
    "\n",
    "# Note: we can use sum() with True and False values and they will\n",
    "# automatically be cast to 1s and 0s\n",
    "heroes_and_powers_df[\"Power Count\"] = sum(\n",
    "    [heroes_and_powers_df[power_name] for power_name in powers_df.index]\n",
    ")\n",
    "heroes_and_powers_df"
   ]
  },
  {
   "cell_type": "markdown",
   "metadata": {},
   "source": [
    "### Answering the Question\n",
    "\n",
    "Now we can plot the height vs. the count of powers:"
   ]
  },
  {
   "cell_type": "code",
   "execution_count": 26,
   "metadata": {},
   "outputs": [
    {
     "ename": "KeyError",
     "evalue": "'Power Count'",
     "output_type": "error",
     "traceback": [
      "\u001b[1;31m---------------------------------------------------------------------------\u001b[0m",
      "\u001b[1;31mKeyError\u001b[0m                                  Traceback (most recent call last)",
      "File \u001b[1;32mC:\\ProgramData\\anaconda3\\Lib\\site-packages\\pandas\\core\\indexes\\base.py:3805\u001b[0m, in \u001b[0;36mIndex.get_loc\u001b[1;34m(self, key)\u001b[0m\n\u001b[0;32m   3804\u001b[0m \u001b[38;5;28;01mtry\u001b[39;00m:\n\u001b[1;32m-> 3805\u001b[0m     \u001b[38;5;28;01mreturn\u001b[39;00m \u001b[38;5;28mself\u001b[39m\u001b[38;5;241m.\u001b[39m_engine\u001b[38;5;241m.\u001b[39mget_loc(casted_key)\n\u001b[0;32m   3806\u001b[0m \u001b[38;5;28;01mexcept\u001b[39;00m \u001b[38;5;167;01mKeyError\u001b[39;00m \u001b[38;5;28;01mas\u001b[39;00m err:\n",
      "File \u001b[1;32mindex.pyx:167\u001b[0m, in \u001b[0;36mpandas._libs.index.IndexEngine.get_loc\u001b[1;34m()\u001b[0m\n",
      "File \u001b[1;32mindex.pyx:196\u001b[0m, in \u001b[0;36mpandas._libs.index.IndexEngine.get_loc\u001b[1;34m()\u001b[0m\n",
      "File \u001b[1;32mpandas\\\\_libs\\\\hashtable_class_helper.pxi:7081\u001b[0m, in \u001b[0;36mpandas._libs.hashtable.PyObjectHashTable.get_item\u001b[1;34m()\u001b[0m\n",
      "File \u001b[1;32mpandas\\\\_libs\\\\hashtable_class_helper.pxi:7089\u001b[0m, in \u001b[0;36mpandas._libs.hashtable.PyObjectHashTable.get_item\u001b[1;34m()\u001b[0m\n",
      "\u001b[1;31mKeyError\u001b[0m: 'Power Count'",
      "\nThe above exception was the direct cause of the following exception:\n",
      "\u001b[1;31mKeyError\u001b[0m                                  Traceback (most recent call last)",
      "Cell \u001b[1;32mIn[26], line 6\u001b[0m\n\u001b[0;32m      1\u001b[0m \u001b[38;5;66;03m# Run this cell without changes\u001b[39;00m\n\u001b[0;32m      3\u001b[0m fig, ax \u001b[38;5;241m=\u001b[39m plt\u001b[38;5;241m.\u001b[39msubplots(figsize\u001b[38;5;241m=\u001b[39m(\u001b[38;5;241m16\u001b[39m, \u001b[38;5;241m8\u001b[39m))\n\u001b[0;32m      5\u001b[0m ax\u001b[38;5;241m.\u001b[39mscatter(\n\u001b[1;32m----> 6\u001b[0m     x\u001b[38;5;241m=\u001b[39mheroes_and_powers_df[\u001b[38;5;124m\"\u001b[39m\u001b[38;5;124mHeight\u001b[39m\u001b[38;5;124m\"\u001b[39m], y\u001b[38;5;241m=\u001b[39mheroes_and_powers_df[\u001b[38;5;124m\"\u001b[39m\u001b[38;5;124mPower Count\u001b[39m\u001b[38;5;124m\"\u001b[39m], alpha\u001b[38;5;241m=\u001b[39m\u001b[38;5;241m0.3\u001b[39m\n\u001b[0;32m      7\u001b[0m )\n\u001b[0;32m      9\u001b[0m ax\u001b[38;5;241m.\u001b[39mset_xlabel(\u001b[38;5;124m\"\u001b[39m\u001b[38;5;124mHeight (cm)\u001b[39m\u001b[38;5;124m\"\u001b[39m)\n\u001b[0;32m     10\u001b[0m ax\u001b[38;5;241m.\u001b[39mset_ylabel(\u001b[38;5;124m\"\u001b[39m\u001b[38;5;124mNumber of Superpowers\u001b[39m\u001b[38;5;124m\"\u001b[39m)\n",
      "File \u001b[1;32mC:\\ProgramData\\anaconda3\\Lib\\site-packages\\pandas\\core\\frame.py:4102\u001b[0m, in \u001b[0;36mDataFrame.__getitem__\u001b[1;34m(self, key)\u001b[0m\n\u001b[0;32m   4100\u001b[0m \u001b[38;5;28;01mif\u001b[39;00m \u001b[38;5;28mself\u001b[39m\u001b[38;5;241m.\u001b[39mcolumns\u001b[38;5;241m.\u001b[39mnlevels \u001b[38;5;241m>\u001b[39m \u001b[38;5;241m1\u001b[39m:\n\u001b[0;32m   4101\u001b[0m     \u001b[38;5;28;01mreturn\u001b[39;00m \u001b[38;5;28mself\u001b[39m\u001b[38;5;241m.\u001b[39m_getitem_multilevel(key)\n\u001b[1;32m-> 4102\u001b[0m indexer \u001b[38;5;241m=\u001b[39m \u001b[38;5;28mself\u001b[39m\u001b[38;5;241m.\u001b[39mcolumns\u001b[38;5;241m.\u001b[39mget_loc(key)\n\u001b[0;32m   4103\u001b[0m \u001b[38;5;28;01mif\u001b[39;00m is_integer(indexer):\n\u001b[0;32m   4104\u001b[0m     indexer \u001b[38;5;241m=\u001b[39m [indexer]\n",
      "File \u001b[1;32mC:\\ProgramData\\anaconda3\\Lib\\site-packages\\pandas\\core\\indexes\\base.py:3812\u001b[0m, in \u001b[0;36mIndex.get_loc\u001b[1;34m(self, key)\u001b[0m\n\u001b[0;32m   3807\u001b[0m     \u001b[38;5;28;01mif\u001b[39;00m \u001b[38;5;28misinstance\u001b[39m(casted_key, \u001b[38;5;28mslice\u001b[39m) \u001b[38;5;129;01mor\u001b[39;00m (\n\u001b[0;32m   3808\u001b[0m         \u001b[38;5;28misinstance\u001b[39m(casted_key, abc\u001b[38;5;241m.\u001b[39mIterable)\n\u001b[0;32m   3809\u001b[0m         \u001b[38;5;129;01mand\u001b[39;00m \u001b[38;5;28many\u001b[39m(\u001b[38;5;28misinstance\u001b[39m(x, \u001b[38;5;28mslice\u001b[39m) \u001b[38;5;28;01mfor\u001b[39;00m x \u001b[38;5;129;01min\u001b[39;00m casted_key)\n\u001b[0;32m   3810\u001b[0m     ):\n\u001b[0;32m   3811\u001b[0m         \u001b[38;5;28;01mraise\u001b[39;00m InvalidIndexError(key)\n\u001b[1;32m-> 3812\u001b[0m     \u001b[38;5;28;01mraise\u001b[39;00m \u001b[38;5;167;01mKeyError\u001b[39;00m(key) \u001b[38;5;28;01mfrom\u001b[39;00m \u001b[38;5;21;01merr\u001b[39;00m\n\u001b[0;32m   3813\u001b[0m \u001b[38;5;28;01mexcept\u001b[39;00m \u001b[38;5;167;01mTypeError\u001b[39;00m:\n\u001b[0;32m   3814\u001b[0m     \u001b[38;5;66;03m# If we have a listlike key, _check_indexing_error will raise\u001b[39;00m\n\u001b[0;32m   3815\u001b[0m     \u001b[38;5;66;03m#  InvalidIndexError. Otherwise we fall through and re-raise\u001b[39;00m\n\u001b[0;32m   3816\u001b[0m     \u001b[38;5;66;03m#  the TypeError.\u001b[39;00m\n\u001b[0;32m   3817\u001b[0m     \u001b[38;5;28mself\u001b[39m\u001b[38;5;241m.\u001b[39m_check_indexing_error(key)\n",
      "\u001b[1;31mKeyError\u001b[0m: 'Power Count'"
     ]
    }
   ],
   "source": [
    "# Run this cell without changes\n",
    "\n",
    "fig, ax = plt.subplots(figsize=(16, 8))\n",
    "\n",
    "ax.scatter(\n",
    "    x=heroes_and_powers_df[\"Height\"], y=heroes_and_powers_df[\"Power Count\"], alpha=0.3\n",
    ")\n",
    "\n",
    "ax.set_xlabel(\"Height (cm)\")\n",
    "ax.set_ylabel(\"Number of Superpowers\")\n",
    "ax.set_title(\"Height vs. Power Count\");"
   ]
  },
  {
   "cell_type": "markdown",
   "metadata": {},
   "source": [
    "Hmm...what is that stack of values off below zero? What is a \"negative\" height?"
   ]
  },
  {
   "cell_type": "markdown",
   "metadata": {},
   "source": [
    "### Identifying and Handling Invalid values\n",
    "\n",
    "One of the trickier tasks in data cleaning is identifying invalid or impossible values. In these cases, you have to apply your domain knowledge rather than any particular computational technique. For example, if you were looking at data containing dates of past home sales, and one of those dates was 100 years in the future, pandas wouldn't flag that as an issue, but you as a data scientist should be able to identify it.\n",
    "\n",
    "In this case, we are looking at heights, which are 1-dimensional, positive numbers. In theory we could have a very tiny height close to 0 cm because the hero is microscopic, but it does not make sense that we would have a height below zero.\n",
    "\n",
    "Let's take a look at a sample of those negative heights:"
   ]
  },
  {
   "cell_type": "code",
   "execution_count": 27,
   "metadata": {},
   "outputs": [
    {
     "ename": "ValueError",
     "evalue": "a must be greater than 0 unless no samples are taken",
     "output_type": "error",
     "traceback": [
      "\u001b[1;31m---------------------------------------------------------------------------\u001b[0m",
      "\u001b[1;31mValueError\u001b[0m                                Traceback (most recent call last)",
      "Cell \u001b[1;32mIn[27], line 2\u001b[0m\n\u001b[0;32m      1\u001b[0m \u001b[38;5;66;03m# Run this cell without changes\u001b[39;00m\n\u001b[1;32m----> 2\u001b[0m heroes_and_powers_df[heroes_and_powers_df[\u001b[38;5;124m\"\u001b[39m\u001b[38;5;124mHeight\u001b[39m\u001b[38;5;124m\"\u001b[39m] \u001b[38;5;241m<\u001b[39m \u001b[38;5;241m0\u001b[39m]\u001b[38;5;241m.\u001b[39msample(\u001b[38;5;241m5\u001b[39m, random_state\u001b[38;5;241m=\u001b[39m\u001b[38;5;241m1\u001b[39m)\n",
      "File \u001b[1;32mC:\\ProgramData\\anaconda3\\Lib\\site-packages\\pandas\\core\\generic.py:6118\u001b[0m, in \u001b[0;36mNDFrame.sample\u001b[1;34m(self, n, frac, replace, weights, random_state, axis, ignore_index)\u001b[0m\n\u001b[0;32m   6115\u001b[0m \u001b[38;5;28;01mif\u001b[39;00m weights \u001b[38;5;129;01mis\u001b[39;00m \u001b[38;5;129;01mnot\u001b[39;00m \u001b[38;5;28;01mNone\u001b[39;00m:\n\u001b[0;32m   6116\u001b[0m     weights \u001b[38;5;241m=\u001b[39m sample\u001b[38;5;241m.\u001b[39mpreprocess_weights(\u001b[38;5;28mself\u001b[39m, weights, axis)\n\u001b[1;32m-> 6118\u001b[0m sampled_indices \u001b[38;5;241m=\u001b[39m sample\u001b[38;5;241m.\u001b[39msample(obj_len, size, replace, weights, rs)\n\u001b[0;32m   6119\u001b[0m result \u001b[38;5;241m=\u001b[39m \u001b[38;5;28mself\u001b[39m\u001b[38;5;241m.\u001b[39mtake(sampled_indices, axis\u001b[38;5;241m=\u001b[39maxis)\n\u001b[0;32m   6121\u001b[0m \u001b[38;5;28;01mif\u001b[39;00m ignore_index:\n",
      "File \u001b[1;32mC:\\ProgramData\\anaconda3\\Lib\\site-packages\\pandas\\core\\sample.py:152\u001b[0m, in \u001b[0;36msample\u001b[1;34m(obj_len, size, replace, weights, random_state)\u001b[0m\n\u001b[0;32m    149\u001b[0m     \u001b[38;5;28;01melse\u001b[39;00m:\n\u001b[0;32m    150\u001b[0m         \u001b[38;5;28;01mraise\u001b[39;00m \u001b[38;5;167;01mValueError\u001b[39;00m(\u001b[38;5;124m\"\u001b[39m\u001b[38;5;124mInvalid weights: weights sum to zero\u001b[39m\u001b[38;5;124m\"\u001b[39m)\n\u001b[1;32m--> 152\u001b[0m \u001b[38;5;28;01mreturn\u001b[39;00m random_state\u001b[38;5;241m.\u001b[39mchoice(obj_len, size\u001b[38;5;241m=\u001b[39msize, replace\u001b[38;5;241m=\u001b[39mreplace, p\u001b[38;5;241m=\u001b[39mweights)\u001b[38;5;241m.\u001b[39mastype(\n\u001b[0;32m    153\u001b[0m     np\u001b[38;5;241m.\u001b[39mintp, copy\u001b[38;5;241m=\u001b[39m\u001b[38;5;28;01mFalse\u001b[39;00m\n\u001b[0;32m    154\u001b[0m )\n",
      "File \u001b[1;32mnumpy\\\\random\\\\mtrand.pyx:945\u001b[0m, in \u001b[0;36mnumpy.random.mtrand.RandomState.choice\u001b[1;34m()\u001b[0m\n",
      "\u001b[1;31mValueError\u001b[0m: a must be greater than 0 unless no samples are taken"
     ]
    }
   ],
   "source": [
    "# Run this cell without changes\n",
    "heroes_and_powers_df[heroes_and_powers_df[\"Height\"] < 0].sample(5, random_state=1)"
   ]
  },
  {
   "cell_type": "markdown",
   "metadata": {},
   "source": [
    "It looks like not only are those heights negative, those weights are negative also, and all of them are set to exactly -99.0.\n",
    "\n",
    "It seems like this data source probably filled in -99.0 as the height or weight whenever it was unknown, instead of just leaving it as NaN.\n",
    "\n",
    "Depending on the purpose of the analysis, maybe this would be a useful piece of information, but for our current question, let's go ahead and drop the records where the height is -99.0. We'll make a new temporary dataframe to make sure we don't accidentally delete anything that will be needed in a future question."
   ]
  },
  {
   "cell_type": "code",
   "execution_count": 28,
   "metadata": {},
   "outputs": [
    {
     "data": {
      "text/html": [
       "<div>\n",
       "<style scoped>\n",
       "    .dataframe tbody tr th:only-of-type {\n",
       "        vertical-align: middle;\n",
       "    }\n",
       "\n",
       "    .dataframe tbody tr th {\n",
       "        vertical-align: top;\n",
       "    }\n",
       "\n",
       "    .dataframe thead th {\n",
       "        text-align: right;\n",
       "    }\n",
       "</style>\n",
       "<table border=\"1\" class=\"dataframe\">\n",
       "  <thead>\n",
       "    <tr style=\"text-align: right;\">\n",
       "      <th></th>\n",
       "      <th>name</th>\n",
       "      <th>Gender</th>\n",
       "      <th>Eye color</th>\n",
       "      <th>Race</th>\n",
       "      <th>Hair color</th>\n",
       "      <th>Height</th>\n",
       "      <th>Publisher</th>\n",
       "      <th>Skin color</th>\n",
       "      <th>Alignment</th>\n",
       "      <th>Weight</th>\n",
       "      <th>...</th>\n",
       "      <th>Wonder Man</th>\n",
       "      <th>Wonder Woman</th>\n",
       "      <th>X-23</th>\n",
       "      <th>X-Man</th>\n",
       "      <th>Yellowjacket</th>\n",
       "      <th>Yellowjacket II</th>\n",
       "      <th>Ymir</th>\n",
       "      <th>Yoda</th>\n",
       "      <th>Zatanna</th>\n",
       "      <th>Zoom</th>\n",
       "    </tr>\n",
       "  </thead>\n",
       "  <tbody>\n",
       "    <tr>\n",
       "      <th>0</th>\n",
       "      <td>Omniscient</td>\n",
       "      <td>Male</td>\n",
       "      <td>brown</td>\n",
       "      <td>NaN</td>\n",
       "      <td>Black</td>\n",
       "      <td>180.0</td>\n",
       "      <td>Team Epic TV</td>\n",
       "      <td>NaN</td>\n",
       "      <td>good</td>\n",
       "      <td>65.0</td>\n",
       "      <td>...</td>\n",
       "      <td>False</td>\n",
       "      <td>False</td>\n",
       "      <td>False</td>\n",
       "      <td>False</td>\n",
       "      <td>False</td>\n",
       "      <td>False</td>\n",
       "      <td>False</td>\n",
       "      <td>False</td>\n",
       "      <td>False</td>\n",
       "      <td>False</td>\n",
       "    </tr>\n",
       "  </tbody>\n",
       "</table>\n",
       "<p>1 rows × 677 columns</p>\n",
       "</div>"
      ],
      "text/plain": [
       "         name Gender Eye color Race Hair color  Height     Publisher  \\\n",
       "0  Omniscient   Male     brown  NaN      Black   180.0  Team Epic TV   \n",
       "\n",
       "  Skin color Alignment  Weight  ...  Wonder Man  Wonder Woman   X-23  X-Man  \\\n",
       "0        NaN      good    65.0  ...       False         False  False  False   \n",
       "\n",
       "   Yellowjacket  Yellowjacket II   Ymir   Yoda  Zatanna   Zoom  \n",
       "0         False            False  False  False    False  False  \n",
       "\n",
       "[1 rows x 677 columns]"
      ]
     },
     "execution_count": 28,
     "metadata": {},
     "output_type": "execute_result"
    }
   ],
   "source": [
    "# Run this cell without changes\n",
    "question_2_df = heroes_and_powers_df[heroes_and_powers_df[\"Height\"] != -99.0].copy()\n",
    "question_2_df"
   ]
  },
  {
   "cell_type": "markdown",
   "metadata": {},
   "source": [
    "### Answering the Question, Again\n",
    "\n",
    "Now we can redo that plot without those negative heights:"
   ]
  },
  {
   "cell_type": "code",
   "execution_count": 29,
   "metadata": {},
   "outputs": [
    {
     "ename": "KeyError",
     "evalue": "'Power Count'",
     "output_type": "error",
     "traceback": [
      "\u001b[1;31m---------------------------------------------------------------------------\u001b[0m",
      "\u001b[1;31mKeyError\u001b[0m                                  Traceback (most recent call last)",
      "File \u001b[1;32mC:\\ProgramData\\anaconda3\\Lib\\site-packages\\pandas\\core\\indexes\\base.py:3805\u001b[0m, in \u001b[0;36mIndex.get_loc\u001b[1;34m(self, key)\u001b[0m\n\u001b[0;32m   3804\u001b[0m \u001b[38;5;28;01mtry\u001b[39;00m:\n\u001b[1;32m-> 3805\u001b[0m     \u001b[38;5;28;01mreturn\u001b[39;00m \u001b[38;5;28mself\u001b[39m\u001b[38;5;241m.\u001b[39m_engine\u001b[38;5;241m.\u001b[39mget_loc(casted_key)\n\u001b[0;32m   3806\u001b[0m \u001b[38;5;28;01mexcept\u001b[39;00m \u001b[38;5;167;01mKeyError\u001b[39;00m \u001b[38;5;28;01mas\u001b[39;00m err:\n",
      "File \u001b[1;32mindex.pyx:167\u001b[0m, in \u001b[0;36mpandas._libs.index.IndexEngine.get_loc\u001b[1;34m()\u001b[0m\n",
      "File \u001b[1;32mindex.pyx:196\u001b[0m, in \u001b[0;36mpandas._libs.index.IndexEngine.get_loc\u001b[1;34m()\u001b[0m\n",
      "File \u001b[1;32mpandas\\\\_libs\\\\hashtable_class_helper.pxi:7081\u001b[0m, in \u001b[0;36mpandas._libs.hashtable.PyObjectHashTable.get_item\u001b[1;34m()\u001b[0m\n",
      "File \u001b[1;32mpandas\\\\_libs\\\\hashtable_class_helper.pxi:7089\u001b[0m, in \u001b[0;36mpandas._libs.hashtable.PyObjectHashTable.get_item\u001b[1;34m()\u001b[0m\n",
      "\u001b[1;31mKeyError\u001b[0m: 'Power Count'",
      "\nThe above exception was the direct cause of the following exception:\n",
      "\u001b[1;31mKeyError\u001b[0m                                  Traceback (most recent call last)",
      "Cell \u001b[1;32mIn[29], line 5\u001b[0m\n\u001b[0;32m      1\u001b[0m \u001b[38;5;66;03m# Run this cell without changes\u001b[39;00m\n\u001b[0;32m      3\u001b[0m fig, ax \u001b[38;5;241m=\u001b[39m plt\u001b[38;5;241m.\u001b[39msubplots(figsize\u001b[38;5;241m=\u001b[39m(\u001b[38;5;241m16\u001b[39m, \u001b[38;5;241m8\u001b[39m))\n\u001b[1;32m----> 5\u001b[0m ax\u001b[38;5;241m.\u001b[39mscatter(x\u001b[38;5;241m=\u001b[39mquestion_2_df[\u001b[38;5;124m\"\u001b[39m\u001b[38;5;124mHeight\u001b[39m\u001b[38;5;124m\"\u001b[39m], y\u001b[38;5;241m=\u001b[39mquestion_2_df[\u001b[38;5;124m\"\u001b[39m\u001b[38;5;124mPower Count\u001b[39m\u001b[38;5;124m\"\u001b[39m], alpha\u001b[38;5;241m=\u001b[39m\u001b[38;5;241m0.3\u001b[39m)\n\u001b[0;32m      7\u001b[0m ax\u001b[38;5;241m.\u001b[39mset_xlabel(\u001b[38;5;124m\"\u001b[39m\u001b[38;5;124mHeight (cm)\u001b[39m\u001b[38;5;124m\"\u001b[39m)\n\u001b[0;32m      8\u001b[0m ax\u001b[38;5;241m.\u001b[39mset_ylabel(\u001b[38;5;124m\"\u001b[39m\u001b[38;5;124mNumber of Superpowers\u001b[39m\u001b[38;5;124m\"\u001b[39m)\n",
      "File \u001b[1;32mC:\\ProgramData\\anaconda3\\Lib\\site-packages\\pandas\\core\\frame.py:4102\u001b[0m, in \u001b[0;36mDataFrame.__getitem__\u001b[1;34m(self, key)\u001b[0m\n\u001b[0;32m   4100\u001b[0m \u001b[38;5;28;01mif\u001b[39;00m \u001b[38;5;28mself\u001b[39m\u001b[38;5;241m.\u001b[39mcolumns\u001b[38;5;241m.\u001b[39mnlevels \u001b[38;5;241m>\u001b[39m \u001b[38;5;241m1\u001b[39m:\n\u001b[0;32m   4101\u001b[0m     \u001b[38;5;28;01mreturn\u001b[39;00m \u001b[38;5;28mself\u001b[39m\u001b[38;5;241m.\u001b[39m_getitem_multilevel(key)\n\u001b[1;32m-> 4102\u001b[0m indexer \u001b[38;5;241m=\u001b[39m \u001b[38;5;28mself\u001b[39m\u001b[38;5;241m.\u001b[39mcolumns\u001b[38;5;241m.\u001b[39mget_loc(key)\n\u001b[0;32m   4103\u001b[0m \u001b[38;5;28;01mif\u001b[39;00m is_integer(indexer):\n\u001b[0;32m   4104\u001b[0m     indexer \u001b[38;5;241m=\u001b[39m [indexer]\n",
      "File \u001b[1;32mC:\\ProgramData\\anaconda3\\Lib\\site-packages\\pandas\\core\\indexes\\base.py:3812\u001b[0m, in \u001b[0;36mIndex.get_loc\u001b[1;34m(self, key)\u001b[0m\n\u001b[0;32m   3807\u001b[0m     \u001b[38;5;28;01mif\u001b[39;00m \u001b[38;5;28misinstance\u001b[39m(casted_key, \u001b[38;5;28mslice\u001b[39m) \u001b[38;5;129;01mor\u001b[39;00m (\n\u001b[0;32m   3808\u001b[0m         \u001b[38;5;28misinstance\u001b[39m(casted_key, abc\u001b[38;5;241m.\u001b[39mIterable)\n\u001b[0;32m   3809\u001b[0m         \u001b[38;5;129;01mand\u001b[39;00m \u001b[38;5;28many\u001b[39m(\u001b[38;5;28misinstance\u001b[39m(x, \u001b[38;5;28mslice\u001b[39m) \u001b[38;5;28;01mfor\u001b[39;00m x \u001b[38;5;129;01min\u001b[39;00m casted_key)\n\u001b[0;32m   3810\u001b[0m     ):\n\u001b[0;32m   3811\u001b[0m         \u001b[38;5;28;01mraise\u001b[39;00m InvalidIndexError(key)\n\u001b[1;32m-> 3812\u001b[0m     \u001b[38;5;28;01mraise\u001b[39;00m \u001b[38;5;167;01mKeyError\u001b[39;00m(key) \u001b[38;5;28;01mfrom\u001b[39;00m \u001b[38;5;21;01merr\u001b[39;00m\n\u001b[0;32m   3813\u001b[0m \u001b[38;5;28;01mexcept\u001b[39;00m \u001b[38;5;167;01mTypeError\u001b[39;00m:\n\u001b[0;32m   3814\u001b[0m     \u001b[38;5;66;03m# If we have a listlike key, _check_indexing_error will raise\u001b[39;00m\n\u001b[0;32m   3815\u001b[0m     \u001b[38;5;66;03m#  InvalidIndexError. Otherwise we fall through and re-raise\u001b[39;00m\n\u001b[0;32m   3816\u001b[0m     \u001b[38;5;66;03m#  the TypeError.\u001b[39;00m\n\u001b[0;32m   3817\u001b[0m     \u001b[38;5;28mself\u001b[39m\u001b[38;5;241m.\u001b[39m_check_indexing_error(key)\n",
      "\u001b[1;31mKeyError\u001b[0m: 'Power Count'"
     ]
    }
   ],
   "source": [
    "# Run this cell without changes\n",
    "\n",
    "fig, ax = plt.subplots(figsize=(16, 8))\n",
    "\n",
    "ax.scatter(x=question_2_df[\"Height\"], y=question_2_df[\"Power Count\"], alpha=0.3)\n",
    "\n",
    "ax.set_xlabel(\"Height (cm)\")\n",
    "ax.set_ylabel(\"Number of Superpowers\")\n",
    "ax.set_title(\"Height vs. Power Count\");"
   ]
  },
  {
   "cell_type": "markdown",
   "metadata": {},
   "source": [
    "Ok, that makes more sense. It looks like there is not much of a relationship between height and number of superpowers.\n",
    "\n",
    "Now we can go on to answering the second half of question 2: *And does this differ based on gender?*\n",
    "\n",
    "To indicate multiple categories within a scatter plot, we can use color to add a third dimension:"
   ]
  },
  {
   "cell_type": "code",
   "execution_count": 35,
   "metadata": {},
   "outputs": [
    {
     "ename": "KeyError",
     "evalue": "'Power Count'",
     "output_type": "error",
     "traceback": [
      "\u001b[1;31m---------------------------------------------------------------------------\u001b[0m",
      "\u001b[1;31mKeyError\u001b[0m                                  Traceback (most recent call last)",
      "File \u001b[1;32mC:\\ProgramData\\anaconda3\\Lib\\site-packages\\pandas\\core\\indexes\\base.py:3805\u001b[0m, in \u001b[0;36mIndex.get_loc\u001b[1;34m(self, key)\u001b[0m\n\u001b[0;32m   3804\u001b[0m \u001b[38;5;28;01mtry\u001b[39;00m:\n\u001b[1;32m-> 3805\u001b[0m     \u001b[38;5;28;01mreturn\u001b[39;00m \u001b[38;5;28mself\u001b[39m\u001b[38;5;241m.\u001b[39m_engine\u001b[38;5;241m.\u001b[39mget_loc(casted_key)\n\u001b[0;32m   3806\u001b[0m \u001b[38;5;28;01mexcept\u001b[39;00m \u001b[38;5;167;01mKeyError\u001b[39;00m \u001b[38;5;28;01mas\u001b[39;00m err:\n",
      "File \u001b[1;32mindex.pyx:167\u001b[0m, in \u001b[0;36mpandas._libs.index.IndexEngine.get_loc\u001b[1;34m()\u001b[0m\n",
      "File \u001b[1;32mindex.pyx:196\u001b[0m, in \u001b[0;36mpandas._libs.index.IndexEngine.get_loc\u001b[1;34m()\u001b[0m\n",
      "File \u001b[1;32mpandas\\\\_libs\\\\hashtable_class_helper.pxi:7081\u001b[0m, in \u001b[0;36mpandas._libs.hashtable.PyObjectHashTable.get_item\u001b[1;34m()\u001b[0m\n",
      "File \u001b[1;32mpandas\\\\_libs\\\\hashtable_class_helper.pxi:7089\u001b[0m, in \u001b[0;36mpandas._libs.hashtable.PyObjectHashTable.get_item\u001b[1;34m()\u001b[0m\n",
      "\u001b[1;31mKeyError\u001b[0m: 'Power Count'",
      "\nThe above exception was the direct cause of the following exception:\n",
      "\u001b[1;31mKeyError\u001b[0m                                  Traceback (most recent call last)",
      "Cell \u001b[1;32mIn[35], line 15\u001b[0m\n\u001b[0;32m      8\u001b[0m question_2_other \u001b[38;5;241m=\u001b[39m question_2_df[\n\u001b[0;32m      9\u001b[0m     (question_2_df[\u001b[38;5;124m\"\u001b[39m\u001b[38;5;124mGender\u001b[39m\u001b[38;5;124m\"\u001b[39m] \u001b[38;5;241m!=\u001b[39m \u001b[38;5;124m\"\u001b[39m\u001b[38;5;124mMale\u001b[39m\u001b[38;5;124m\"\u001b[39m) \u001b[38;5;241m&\u001b[39m (question_2_df[\u001b[38;5;124m\"\u001b[39m\u001b[38;5;124mGender\u001b[39m\u001b[38;5;124m\"\u001b[39m] \u001b[38;5;241m!=\u001b[39m \u001b[38;5;124m\"\u001b[39m\u001b[38;5;124mFemale\u001b[39m\u001b[38;5;124m\"\u001b[39m)\n\u001b[0;32m     10\u001b[0m ]\n\u001b[0;32m     12\u001b[0m \u001b[38;5;66;03m# Plot data with different colors\u001b[39;00m\n\u001b[0;32m     13\u001b[0m ax\u001b[38;5;241m.\u001b[39mscatter(\n\u001b[0;32m     14\u001b[0m     x\u001b[38;5;241m=\u001b[39mquestion_2_male[\u001b[38;5;124m\"\u001b[39m\u001b[38;5;124mHeight\u001b[39m\u001b[38;5;124m\"\u001b[39m],\n\u001b[1;32m---> 15\u001b[0m     y\u001b[38;5;241m=\u001b[39mquestion_2_male[\u001b[38;5;124m\"\u001b[39m\u001b[38;5;124mPower Count\u001b[39m\u001b[38;5;124m\"\u001b[39m],\n\u001b[0;32m     16\u001b[0m     alpha\u001b[38;5;241m=\u001b[39m\u001b[38;5;241m0.5\u001b[39m,\n\u001b[0;32m     17\u001b[0m     color\u001b[38;5;241m=\u001b[39m\u001b[38;5;124m\"\u001b[39m\u001b[38;5;124mcyan\u001b[39m\u001b[38;5;124m\"\u001b[39m,\n\u001b[0;32m     18\u001b[0m     label\u001b[38;5;241m=\u001b[39m\u001b[38;5;124m\"\u001b[39m\u001b[38;5;124mMale\u001b[39m\u001b[38;5;124m\"\u001b[39m,\n\u001b[0;32m     19\u001b[0m )\n\u001b[0;32m     20\u001b[0m ax\u001b[38;5;241m.\u001b[39mscatter(\n\u001b[0;32m     21\u001b[0m     x\u001b[38;5;241m=\u001b[39mquestion_2_female[\u001b[38;5;124m\"\u001b[39m\u001b[38;5;124mHeight\u001b[39m\u001b[38;5;124m\"\u001b[39m],\n\u001b[0;32m     22\u001b[0m     y\u001b[38;5;241m=\u001b[39mquestion_2_female[\u001b[38;5;124m\"\u001b[39m\u001b[38;5;124mPower Count\u001b[39m\u001b[38;5;124m\"\u001b[39m],\n\u001b[1;32m   (...)\u001b[0m\n\u001b[0;32m     25\u001b[0m     label\u001b[38;5;241m=\u001b[39m\u001b[38;5;124m\"\u001b[39m\u001b[38;5;124mFemale\u001b[39m\u001b[38;5;124m\"\u001b[39m,\n\u001b[0;32m     26\u001b[0m )\n\u001b[0;32m     27\u001b[0m ax\u001b[38;5;241m.\u001b[39mscatter(\n\u001b[0;32m     28\u001b[0m     x\u001b[38;5;241m=\u001b[39mquestion_2_other[\u001b[38;5;124m\"\u001b[39m\u001b[38;5;124mHeight\u001b[39m\u001b[38;5;124m\"\u001b[39m],\n\u001b[0;32m     29\u001b[0m     y\u001b[38;5;241m=\u001b[39mquestion_2_other[\u001b[38;5;124m\"\u001b[39m\u001b[38;5;124mPower Count\u001b[39m\u001b[38;5;124m\"\u001b[39m],\n\u001b[1;32m   (...)\u001b[0m\n\u001b[0;32m     32\u001b[0m     label\u001b[38;5;241m=\u001b[39m\u001b[38;5;124m\"\u001b[39m\u001b[38;5;124mOther\u001b[39m\u001b[38;5;124m\"\u001b[39m,\n\u001b[0;32m     33\u001b[0m )\n",
      "File \u001b[1;32mC:\\ProgramData\\anaconda3\\Lib\\site-packages\\pandas\\core\\frame.py:4102\u001b[0m, in \u001b[0;36mDataFrame.__getitem__\u001b[1;34m(self, key)\u001b[0m\n\u001b[0;32m   4100\u001b[0m \u001b[38;5;28;01mif\u001b[39;00m \u001b[38;5;28mself\u001b[39m\u001b[38;5;241m.\u001b[39mcolumns\u001b[38;5;241m.\u001b[39mnlevels \u001b[38;5;241m>\u001b[39m \u001b[38;5;241m1\u001b[39m:\n\u001b[0;32m   4101\u001b[0m     \u001b[38;5;28;01mreturn\u001b[39;00m \u001b[38;5;28mself\u001b[39m\u001b[38;5;241m.\u001b[39m_getitem_multilevel(key)\n\u001b[1;32m-> 4102\u001b[0m indexer \u001b[38;5;241m=\u001b[39m \u001b[38;5;28mself\u001b[39m\u001b[38;5;241m.\u001b[39mcolumns\u001b[38;5;241m.\u001b[39mget_loc(key)\n\u001b[0;32m   4103\u001b[0m \u001b[38;5;28;01mif\u001b[39;00m is_integer(indexer):\n\u001b[0;32m   4104\u001b[0m     indexer \u001b[38;5;241m=\u001b[39m [indexer]\n",
      "File \u001b[1;32mC:\\ProgramData\\anaconda3\\Lib\\site-packages\\pandas\\core\\indexes\\base.py:3812\u001b[0m, in \u001b[0;36mIndex.get_loc\u001b[1;34m(self, key)\u001b[0m\n\u001b[0;32m   3807\u001b[0m     \u001b[38;5;28;01mif\u001b[39;00m \u001b[38;5;28misinstance\u001b[39m(casted_key, \u001b[38;5;28mslice\u001b[39m) \u001b[38;5;129;01mor\u001b[39;00m (\n\u001b[0;32m   3808\u001b[0m         \u001b[38;5;28misinstance\u001b[39m(casted_key, abc\u001b[38;5;241m.\u001b[39mIterable)\n\u001b[0;32m   3809\u001b[0m         \u001b[38;5;129;01mand\u001b[39;00m \u001b[38;5;28many\u001b[39m(\u001b[38;5;28misinstance\u001b[39m(x, \u001b[38;5;28mslice\u001b[39m) \u001b[38;5;28;01mfor\u001b[39;00m x \u001b[38;5;129;01min\u001b[39;00m casted_key)\n\u001b[0;32m   3810\u001b[0m     ):\n\u001b[0;32m   3811\u001b[0m         \u001b[38;5;28;01mraise\u001b[39;00m InvalidIndexError(key)\n\u001b[1;32m-> 3812\u001b[0m     \u001b[38;5;28;01mraise\u001b[39;00m \u001b[38;5;167;01mKeyError\u001b[39;00m(key) \u001b[38;5;28;01mfrom\u001b[39;00m \u001b[38;5;21;01merr\u001b[39;00m\n\u001b[0;32m   3813\u001b[0m \u001b[38;5;28;01mexcept\u001b[39;00m \u001b[38;5;167;01mTypeError\u001b[39;00m:\n\u001b[0;32m   3814\u001b[0m     \u001b[38;5;66;03m# If we have a listlike key, _check_indexing_error will raise\u001b[39;00m\n\u001b[0;32m   3815\u001b[0m     \u001b[38;5;66;03m#  InvalidIndexError. Otherwise we fall through and re-raise\u001b[39;00m\n\u001b[0;32m   3816\u001b[0m     \u001b[38;5;66;03m#  the TypeError.\u001b[39;00m\n\u001b[0;32m   3817\u001b[0m     \u001b[38;5;28mself\u001b[39m\u001b[38;5;241m.\u001b[39m_check_indexing_error(key)\n",
      "\u001b[1;31mKeyError\u001b[0m: 'Power Count'"
     ]
    }
   ],
   "source": [
    "# Run this cell without changes\n",
    "\n",
    "fig, ax = plt.subplots(figsize=(16, 8))\n",
    "\n",
    "# Select subsets\n",
    "question_2_male = question_2_df[question_2_df[\"Gender\"] == \"Male\"]\n",
    "question_2_female = question_2_df[question_2_df[\"Gender\"] == \"Female\"]\n",
    "question_2_other = question_2_df[\n",
    "    (question_2_df[\"Gender\"] != \"Male\") & (question_2_df[\"Gender\"] != \"Female\")\n",
    "]\n",
    "\n",
    "# Plot data with different colors\n",
    "ax.scatter(\n",
    "    x=question_2_male[\"Height\"],\n",
    "    y=question_2_male[\"Power Count\"],\n",
    "    alpha=0.5,\n",
    "    color=\"cyan\",\n",
    "    label=\"Male\",\n",
    ")\n",
    "ax.scatter(\n",
    "    x=question_2_female[\"Height\"],\n",
    "    y=question_2_female[\"Power Count\"],\n",
    "    alpha=0.5,\n",
    "    color=\"gray\",\n",
    "    label=\"Female\",\n",
    ")\n",
    "ax.scatter(\n",
    "    x=question_2_other[\"Height\"],\n",
    "    y=question_2_other[\"Power Count\"],\n",
    "    alpha=0.5,\n",
    "    color=\"yellow\",\n",
    "    label=\"Other\",\n",
    ")\n",
    "\n",
    "# Customize appearance\n",
    "ax.set_xlabel(\"Height (cm)\")\n",
    "ax.set_ylabel(\"Number of Superpowers\")\n",
    "ax.set_title(\"Height vs. Power Count\")\n",
    "ax.legend();"
   ]
  },
  {
   "cell_type": "markdown",
   "metadata": {},
   "source": [
    "It appears that there is still no clear relationship between count of powers and height, regardless of gender. We do however note that \"Male\" is the most common gender, and that male superheroes tend to be taller, on average."
   ]
  },
  {
   "cell_type": "markdown",
   "metadata": {},
   "source": [
    "## 4. Perform Data Aggregation Required to Answer Third Question\n",
    "\n",
    "Recall that the third question is: *What are the 5 most common superpowers in Marvel Comics vs. DC Comics?*\n",
    "\n",
    "We'll need to keep using `heroes_and_powers_df` since we require information from both `heroes_df` and `powers_df`.\n",
    "\n",
    "Your resulting `question_3_df` should contain aggregated data, with columns `Superpower Name`, `Marvel Comics` (containing the count of occurrences in Marvel Comics), and `DC Comics` (containing the count of occurrences in DC Comics). Each row should represent a superpower.\n",
    "\n",
    "In other words, `question_3_df` should look like this:\n",
    "\n",
    "![question 3 df](images/question_3.png)\n",
    "\n",
    "Don't worry if the rows or columns are in a different order, all that matters is that you have the right rows and columns with all the data.\n",
    "\n",
    "***Hint:*** refer to the [documentation for `.groupby`](https://pandas.pydata.org/pandas-docs/stable/reference/api/pandas.DataFrame.groupby.html) and treat each publisher as a group."
   ]
  },
  {
   "cell_type": "code",
   "execution_count": 36,
   "metadata": {},
   "outputs": [
    {
     "ename": "KeyError",
     "evalue": "'Superpower'",
     "output_type": "error",
     "traceback": [
      "\u001b[1;31m---------------------------------------------------------------------------\u001b[0m",
      "\u001b[1;31mKeyError\u001b[0m                                  Traceback (most recent call last)",
      "Cell \u001b[1;32mIn[36], line 3\u001b[0m\n\u001b[0;32m      1\u001b[0m \u001b[38;5;66;03m# Your code here (create more cells as needed)\u001b[39;00m\n\u001b[0;32m      2\u001b[0m \u001b[38;5;66;03m# Group by Superpower and Publisher, then count occurrences\u001b[39;00m\n\u001b[1;32m----> 3\u001b[0m grouped \u001b[38;5;241m=\u001b[39m heroes_and_powers_df\u001b[38;5;241m.\u001b[39mgroupby([\u001b[38;5;124m'\u001b[39m\u001b[38;5;124mSuperpower\u001b[39m\u001b[38;5;124m'\u001b[39m, \u001b[38;5;124m'\u001b[39m\u001b[38;5;124mPublisher\u001b[39m\u001b[38;5;124m'\u001b[39m])\u001b[38;5;241m.\u001b[39msize()\u001b[38;5;241m.\u001b[39munstack(fill_value\u001b[38;5;241m=\u001b[39m\u001b[38;5;241m0\u001b[39m)\n\u001b[0;32m      5\u001b[0m \u001b[38;5;66;03m# Now, sort by the sum of occurrences across both publishers (to get the most common superpowers)\u001b[39;00m\n\u001b[0;32m      6\u001b[0m grouped[\u001b[38;5;124m'\u001b[39m\u001b[38;5;124mTotal\u001b[39m\u001b[38;5;124m'\u001b[39m] \u001b[38;5;241m=\u001b[39m grouped[\u001b[38;5;124m'\u001b[39m\u001b[38;5;124mMarvel Comics\u001b[39m\u001b[38;5;124m'\u001b[39m] \u001b[38;5;241m+\u001b[39m grouped[\u001b[38;5;124m'\u001b[39m\u001b[38;5;124mDC Comics\u001b[39m\u001b[38;5;124m'\u001b[39m]\n",
      "File \u001b[1;32mC:\\ProgramData\\anaconda3\\Lib\\site-packages\\pandas\\core\\frame.py:9183\u001b[0m, in \u001b[0;36mDataFrame.groupby\u001b[1;34m(self, by, axis, level, as_index, sort, group_keys, observed, dropna)\u001b[0m\n\u001b[0;32m   9180\u001b[0m \u001b[38;5;28;01mif\u001b[39;00m level \u001b[38;5;129;01mis\u001b[39;00m \u001b[38;5;28;01mNone\u001b[39;00m \u001b[38;5;129;01mand\u001b[39;00m by \u001b[38;5;129;01mis\u001b[39;00m \u001b[38;5;28;01mNone\u001b[39;00m:\n\u001b[0;32m   9181\u001b[0m     \u001b[38;5;28;01mraise\u001b[39;00m \u001b[38;5;167;01mTypeError\u001b[39;00m(\u001b[38;5;124m\"\u001b[39m\u001b[38;5;124mYou have to supply one of \u001b[39m\u001b[38;5;124m'\u001b[39m\u001b[38;5;124mby\u001b[39m\u001b[38;5;124m'\u001b[39m\u001b[38;5;124m and \u001b[39m\u001b[38;5;124m'\u001b[39m\u001b[38;5;124mlevel\u001b[39m\u001b[38;5;124m'\u001b[39m\u001b[38;5;124m\"\u001b[39m)\n\u001b[1;32m-> 9183\u001b[0m \u001b[38;5;28;01mreturn\u001b[39;00m DataFrameGroupBy(\n\u001b[0;32m   9184\u001b[0m     obj\u001b[38;5;241m=\u001b[39m\u001b[38;5;28mself\u001b[39m,\n\u001b[0;32m   9185\u001b[0m     keys\u001b[38;5;241m=\u001b[39mby,\n\u001b[0;32m   9186\u001b[0m     axis\u001b[38;5;241m=\u001b[39maxis,\n\u001b[0;32m   9187\u001b[0m     level\u001b[38;5;241m=\u001b[39mlevel,\n\u001b[0;32m   9188\u001b[0m     as_index\u001b[38;5;241m=\u001b[39mas_index,\n\u001b[0;32m   9189\u001b[0m     sort\u001b[38;5;241m=\u001b[39msort,\n\u001b[0;32m   9190\u001b[0m     group_keys\u001b[38;5;241m=\u001b[39mgroup_keys,\n\u001b[0;32m   9191\u001b[0m     observed\u001b[38;5;241m=\u001b[39mobserved,\n\u001b[0;32m   9192\u001b[0m     dropna\u001b[38;5;241m=\u001b[39mdropna,\n\u001b[0;32m   9193\u001b[0m )\n",
      "File \u001b[1;32mC:\\ProgramData\\anaconda3\\Lib\\site-packages\\pandas\\core\\groupby\\groupby.py:1329\u001b[0m, in \u001b[0;36mGroupBy.__init__\u001b[1;34m(self, obj, keys, axis, level, grouper, exclusions, selection, as_index, sort, group_keys, observed, dropna)\u001b[0m\n\u001b[0;32m   1326\u001b[0m \u001b[38;5;28mself\u001b[39m\u001b[38;5;241m.\u001b[39mdropna \u001b[38;5;241m=\u001b[39m dropna\n\u001b[0;32m   1328\u001b[0m \u001b[38;5;28;01mif\u001b[39;00m grouper \u001b[38;5;129;01mis\u001b[39;00m \u001b[38;5;28;01mNone\u001b[39;00m:\n\u001b[1;32m-> 1329\u001b[0m     grouper, exclusions, obj \u001b[38;5;241m=\u001b[39m get_grouper(\n\u001b[0;32m   1330\u001b[0m         obj,\n\u001b[0;32m   1331\u001b[0m         keys,\n\u001b[0;32m   1332\u001b[0m         axis\u001b[38;5;241m=\u001b[39maxis,\n\u001b[0;32m   1333\u001b[0m         level\u001b[38;5;241m=\u001b[39mlevel,\n\u001b[0;32m   1334\u001b[0m         sort\u001b[38;5;241m=\u001b[39msort,\n\u001b[0;32m   1335\u001b[0m         observed\u001b[38;5;241m=\u001b[39m\u001b[38;5;28;01mFalse\u001b[39;00m \u001b[38;5;28;01mif\u001b[39;00m observed \u001b[38;5;129;01mis\u001b[39;00m lib\u001b[38;5;241m.\u001b[39mno_default \u001b[38;5;28;01melse\u001b[39;00m observed,\n\u001b[0;32m   1336\u001b[0m         dropna\u001b[38;5;241m=\u001b[39m\u001b[38;5;28mself\u001b[39m\u001b[38;5;241m.\u001b[39mdropna,\n\u001b[0;32m   1337\u001b[0m     )\n\u001b[0;32m   1339\u001b[0m \u001b[38;5;28;01mif\u001b[39;00m observed \u001b[38;5;129;01mis\u001b[39;00m lib\u001b[38;5;241m.\u001b[39mno_default:\n\u001b[0;32m   1340\u001b[0m     \u001b[38;5;28;01mif\u001b[39;00m \u001b[38;5;28many\u001b[39m(ping\u001b[38;5;241m.\u001b[39m_passed_categorical \u001b[38;5;28;01mfor\u001b[39;00m ping \u001b[38;5;129;01min\u001b[39;00m grouper\u001b[38;5;241m.\u001b[39mgroupings):\n",
      "File \u001b[1;32mC:\\ProgramData\\anaconda3\\Lib\\site-packages\\pandas\\core\\groupby\\grouper.py:1043\u001b[0m, in \u001b[0;36mget_grouper\u001b[1;34m(obj, key, axis, level, sort, observed, validate, dropna)\u001b[0m\n\u001b[0;32m   1041\u001b[0m         in_axis, level, gpr \u001b[38;5;241m=\u001b[39m \u001b[38;5;28;01mFalse\u001b[39;00m, gpr, \u001b[38;5;28;01mNone\u001b[39;00m\n\u001b[0;32m   1042\u001b[0m     \u001b[38;5;28;01melse\u001b[39;00m:\n\u001b[1;32m-> 1043\u001b[0m         \u001b[38;5;28;01mraise\u001b[39;00m \u001b[38;5;167;01mKeyError\u001b[39;00m(gpr)\n\u001b[0;32m   1044\u001b[0m \u001b[38;5;28;01melif\u001b[39;00m \u001b[38;5;28misinstance\u001b[39m(gpr, Grouper) \u001b[38;5;129;01mand\u001b[39;00m gpr\u001b[38;5;241m.\u001b[39mkey \u001b[38;5;129;01mis\u001b[39;00m \u001b[38;5;129;01mnot\u001b[39;00m \u001b[38;5;28;01mNone\u001b[39;00m:\n\u001b[0;32m   1045\u001b[0m     \u001b[38;5;66;03m# Add key to exclusions\u001b[39;00m\n\u001b[0;32m   1046\u001b[0m     exclusions\u001b[38;5;241m.\u001b[39madd(gpr\u001b[38;5;241m.\u001b[39mkey)\n",
      "\u001b[1;31mKeyError\u001b[0m: 'Superpower'"
     ]
    }
   ],
   "source": [
    "# Your code here (create more cells as needed)\n",
    "# Group by Superpower and Publisher, then count occurrences\n",
    "grouped = heroes_and_powers_df.groupby(['Superpower', 'Publisher']).size().unstack(fill_value=0)\n",
    "\n",
    "# Now, sort by the sum of occurrences across both publishers (to get the most common superpowers)\n",
    "grouped['Total'] = grouped['Marvel Comics'] + grouped['DC Comics']\n",
    "grouped_sorted = grouped.sort_values(by='Total', ascending=False)\n",
    "\n",
    "# Select the top 5 most common superpowers\n",
    "question_3_df = grouped_sorted.head(5).drop('Total', axis=1)\n",
    "\n",
    "# Display the resulting DataFrame\n",
    "question_3_df\n"
   ]
  },
  {
   "cell_type": "markdown",
   "metadata": {},
   "source": [
    "The code below checks that you have the correct dataframe structure:"
   ]
  },
  {
   "cell_type": "code",
   "execution_count": 37,
   "metadata": {},
   "outputs": [
    {
     "ename": "NameError",
     "evalue": "name 'question_3_df' is not defined",
     "output_type": "error",
     "traceback": [
      "\u001b[1;31m---------------------------------------------------------------------------\u001b[0m",
      "\u001b[1;31mNameError\u001b[0m                                 Traceback (most recent call last)",
      "Cell \u001b[1;32mIn[37], line 4\u001b[0m\n\u001b[0;32m      1\u001b[0m \u001b[38;5;66;03m# Run this cell without changes\u001b[39;00m\n\u001b[0;32m      2\u001b[0m \n\u001b[0;32m      3\u001b[0m \u001b[38;5;66;03m# Checking that you made a dataframe called question_3_df\u001b[39;00m\n\u001b[1;32m----> 4\u001b[0m \u001b[38;5;28;01massert\u001b[39;00m \u001b[38;5;28mtype\u001b[39m(question_3_df) \u001b[38;5;241m==\u001b[39m pd\u001b[38;5;241m.\u001b[39mDataFrame\n\u001b[0;32m      6\u001b[0m \u001b[38;5;66;03m# Checking the shape\u001b[39;00m\n\u001b[0;32m      7\u001b[0m \u001b[38;5;28;01massert\u001b[39;00m question_3_df\u001b[38;5;241m.\u001b[39mshape \u001b[38;5;241m==\u001b[39m (\u001b[38;5;241m167\u001b[39m, \u001b[38;5;241m3\u001b[39m)\n",
      "\u001b[1;31mNameError\u001b[0m: name 'question_3_df' is not defined"
     ]
    }
   ],
   "source": [
    "# Run this cell without changes\n",
    "\n",
    "# Checking that you made a dataframe called question_3_df\n",
    "assert type(question_3_df) == pd.DataFrame\n",
    "\n",
    "# Checking the shape\n",
    "assert question_3_df.shape == (167, 3)\n",
    "\n",
    "# Checking the column names\n",
    "assert sorted(list(question_3_df.columns)) == [\n",
    "    \"DC Comics\",\n",
    "    \"Marvel Comics\",\n",
    "    \"Superpower Name\",\n",
    "]"
   ]
  },
  {
   "cell_type": "markdown",
   "metadata": {},
   "source": [
    "### Answering the Question\n",
    "\n",
    "The code below uses the dataframe you created to find and plot the most common superpowers in Marvel Comics and DC Comics."
   ]
  },
  {
   "cell_type": "code",
   "execution_count": 38,
   "metadata": {},
   "outputs": [
    {
     "ename": "NameError",
     "evalue": "name 'question_3_df' is not defined",
     "output_type": "error",
     "traceback": [
      "\u001b[1;31m---------------------------------------------------------------------------\u001b[0m",
      "\u001b[1;31mNameError\u001b[0m                                 Traceback (most recent call last)",
      "Cell \u001b[1;32mIn[38], line 3\u001b[0m\n\u001b[0;32m      1\u001b[0m \u001b[38;5;66;03m# Run this cell without changes\u001b[39;00m\n\u001b[1;32m----> 3\u001b[0m marvel_most_common \u001b[38;5;241m=\u001b[39m question_3_df\u001b[38;5;241m.\u001b[39mdrop(\u001b[38;5;124m\"\u001b[39m\u001b[38;5;124mDC Comics\u001b[39m\u001b[38;5;124m\"\u001b[39m, axis\u001b[38;5;241m=\u001b[39m\u001b[38;5;241m1\u001b[39m)\n\u001b[0;32m      4\u001b[0m marvel_most_common \u001b[38;5;241m=\u001b[39m marvel_most_common\u001b[38;5;241m.\u001b[39msort_values(\n\u001b[0;32m      5\u001b[0m     by\u001b[38;5;241m=\u001b[39m\u001b[38;5;124m\"\u001b[39m\u001b[38;5;124mMarvel Comics\u001b[39m\u001b[38;5;124m\"\u001b[39m, ascending\u001b[38;5;241m=\u001b[39m\u001b[38;5;28;01mFalse\u001b[39;00m\n\u001b[0;32m      6\u001b[0m )[:\u001b[38;5;241m5\u001b[39m]\n\u001b[0;32m      7\u001b[0m marvel_most_common\n",
      "\u001b[1;31mNameError\u001b[0m: name 'question_3_df' is not defined"
     ]
    }
   ],
   "source": [
    "# Run this cell without changes\n",
    "\n",
    "marvel_most_common = question_3_df.drop(\"DC Comics\", axis=1)\n",
    "marvel_most_common = marvel_most_common.sort_values(\n",
    "    by=\"Marvel Comics\", ascending=False\n",
    ")[:5]\n",
    "marvel_most_common"
   ]
  },
  {
   "cell_type": "code",
   "execution_count": 39,
   "metadata": {},
   "outputs": [
    {
     "ename": "NameError",
     "evalue": "name 'question_3_df' is not defined",
     "output_type": "error",
     "traceback": [
      "\u001b[1;31m---------------------------------------------------------------------------\u001b[0m",
      "\u001b[1;31mNameError\u001b[0m                                 Traceback (most recent call last)",
      "Cell \u001b[1;32mIn[39], line 3\u001b[0m\n\u001b[0;32m      1\u001b[0m \u001b[38;5;66;03m# Run this cell without changes\u001b[39;00m\n\u001b[1;32m----> 3\u001b[0m dc_most_common \u001b[38;5;241m=\u001b[39m question_3_df\u001b[38;5;241m.\u001b[39mdrop(\u001b[38;5;124m\"\u001b[39m\u001b[38;5;124mMarvel Comics\u001b[39m\u001b[38;5;124m\"\u001b[39m, axis\u001b[38;5;241m=\u001b[39m\u001b[38;5;241m1\u001b[39m)\n\u001b[0;32m      4\u001b[0m dc_most_common \u001b[38;5;241m=\u001b[39m dc_most_common\u001b[38;5;241m.\u001b[39msort_values(by\u001b[38;5;241m=\u001b[39m\u001b[38;5;124m\"\u001b[39m\u001b[38;5;124mDC Comics\u001b[39m\u001b[38;5;124m\"\u001b[39m, ascending\u001b[38;5;241m=\u001b[39m\u001b[38;5;28;01mFalse\u001b[39;00m)[:\u001b[38;5;241m5\u001b[39m]\n\u001b[0;32m      5\u001b[0m dc_most_common\n",
      "\u001b[1;31mNameError\u001b[0m: name 'question_3_df' is not defined"
     ]
    }
   ],
   "source": [
    "# Run this cell without changes\n",
    "\n",
    "dc_most_common = question_3_df.drop(\"Marvel Comics\", axis=1)\n",
    "dc_most_common = dc_most_common.sort_values(by=\"DC Comics\", ascending=False)[:5]\n",
    "dc_most_common"
   ]
  },
  {
   "cell_type": "code",
   "execution_count": 40,
   "metadata": {},
   "outputs": [
    {
     "ename": "NameError",
     "evalue": "name 'marvel_most_common' is not defined",
     "output_type": "error",
     "traceback": [
      "\u001b[1;31m---------------------------------------------------------------------------\u001b[0m",
      "\u001b[1;31mNameError\u001b[0m                                 Traceback (most recent call last)",
      "Cell \u001b[1;32mIn[40], line 6\u001b[0m\n\u001b[0;32m      1\u001b[0m \u001b[38;5;66;03m# Run this cell without changes\u001b[39;00m\n\u001b[0;32m      3\u001b[0m fig, (ax1, ax2) \u001b[38;5;241m=\u001b[39m plt\u001b[38;5;241m.\u001b[39msubplots(ncols\u001b[38;5;241m=\u001b[39m\u001b[38;5;241m2\u001b[39m, figsize\u001b[38;5;241m=\u001b[39m(\u001b[38;5;241m15\u001b[39m, \u001b[38;5;241m5\u001b[39m))\n\u001b[0;32m      5\u001b[0m ax1\u001b[38;5;241m.\u001b[39mbar(\n\u001b[1;32m----> 6\u001b[0m     x\u001b[38;5;241m=\u001b[39mmarvel_most_common[\u001b[38;5;124m\"\u001b[39m\u001b[38;5;124mSuperpower Name\u001b[39m\u001b[38;5;124m\"\u001b[39m], height\u001b[38;5;241m=\u001b[39mmarvel_most_common[\u001b[38;5;124m\"\u001b[39m\u001b[38;5;124mMarvel Comics\u001b[39m\u001b[38;5;124m\"\u001b[39m]\n\u001b[0;32m      7\u001b[0m )\n\u001b[0;32m      8\u001b[0m ax2\u001b[38;5;241m.\u001b[39mbar(x\u001b[38;5;241m=\u001b[39mdc_most_common[\u001b[38;5;124m\"\u001b[39m\u001b[38;5;124mSuperpower Name\u001b[39m\u001b[38;5;124m\"\u001b[39m], height\u001b[38;5;241m=\u001b[39mdc_most_common[\u001b[38;5;124m\"\u001b[39m\u001b[38;5;124mDC Comics\u001b[39m\u001b[38;5;124m\"\u001b[39m])\n\u001b[0;32m     10\u001b[0m ax1\u001b[38;5;241m.\u001b[39mset_ylabel(\u001b[38;5;124m\"\u001b[39m\u001b[38;5;124mCount of Superheroes\u001b[39m\u001b[38;5;124m\"\u001b[39m)\n",
      "\u001b[1;31mNameError\u001b[0m: name 'marvel_most_common' is not defined"
     ]
    }
   ],
   "source": [
    "# Run this cell without changes\n",
    "\n",
    "fig, (ax1, ax2) = plt.subplots(ncols=2, figsize=(15, 5))\n",
    "\n",
    "ax1.bar(\n",
    "    x=marvel_most_common[\"Superpower Name\"], height=marvel_most_common[\"Marvel Comics\"]\n",
    ")\n",
    "ax2.bar(x=dc_most_common[\"Superpower Name\"], height=dc_most_common[\"DC Comics\"])\n",
    "\n",
    "ax1.set_ylabel(\"Count of Superheroes\")\n",
    "ax2.set_ylabel(\"Count of Superheroes\")\n",
    "ax1.set_title(\"Frequency of Top Superpowers in Marvel Comics\")\n",
    "ax2.set_title(\"Frequency of Top Superpowers in DC Comics\");"
   ]
  },
  {
   "cell_type": "markdown",
   "metadata": {},
   "source": [
    "It looks like super strength is the most popular power in both Marvel Comics and DC Comics. Overall, the top 5 powers are fairly similar — 4 out of 5 overlap, although Marvel contains agility whereas DC contains flight."
   ]
  },
  {
   "cell_type": "markdown",
   "metadata": {},
   "source": [
    "## 5. Formulate and Answer Your Own Question\n",
    "\n",
    "For the remainder of this lab, you'll be focusing on coming up with and answering your own question, just like we did above.  Your question should not be overly simple, and should require both descriptive statistics and data visualization to answer.  In case you're unsure of what questions to ask, some sample questions have been provided below.\n",
    "\n",
    "Pick one of the following questions to investigate and answer, or come up with one of your own!\n",
    "\n",
    "* Which powers have the highest chance of co-occurring in a hero (e.g. super strength and flight)?\n",
    "* What is the distribution of skin colors amongst alien heroes?\n",
    "* How are eye color and hair color related in this dataset?\n",
    "\n",
    "Explain your question below:"
   ]
  },
  {
   "cell_type": "code",
   "execution_count": 45,
   "metadata": {},
   "outputs": [
    {
     "data": {
      "text/plain": [
       "'\\nHow are eye color and hair color related in this dataset?\\nI will investigate whether certain eye colors are more common with specific hair colors among superheroes. \\nThis will involve calculating the distribution of eye and hair color combinations and visualizing the results using a heatmap.\\n'"
      ]
     },
     "execution_count": 45,
     "metadata": {},
     "output_type": "execute_result"
    }
   ],
   "source": [
    "# Replace None with appropriate text:\n",
    "\"\"\"\n",
    "How are eye color and hair color related in this dataset?\n",
    "I will investigate whether certain eye colors are more common with specific hair colors among superheroes. \n",
    "This will involve calculating the distribution of eye and hair color combinations and visualizing the results using a heatmap.\n",
    "\"\"\"\n",
    "\"\"\"\n",
    "How are eye color and hair color related in this dataset?\n",
    "I will investigate whether certain eye colors are more common with specific hair colors among superheroes. \n",
    "This will involve calculating the distribution of eye and hair color combinations and visualizing the results using a heatmap.\n",
    "\"\"\"\n"
   ]
  },
  {
   "cell_type": "markdown",
   "metadata": {},
   "source": [
    "Some sample cells have been provided to give you room to work. Feel free to create more cells as needed.\n",
    "\n",
    "Be sure to include thoughtful, well-labeled visualizations to back up your analysis!\n",
    "\n",
    "(There is no solution branch for this part, and feel free to move on to the next lesson if you have already spent more than 90 minutes.)"
   ]
  },
  {
   "cell_type": "code",
   "execution_count": null,
   "metadata": {},
   "outputs": [],
   "source": []
  },
  {
   "cell_type": "code",
   "execution_count": null,
   "metadata": {},
   "outputs": [],
   "source": []
  },
  {
   "cell_type": "code",
   "execution_count": null,
   "metadata": {},
   "outputs": [],
   "source": []
  },
  {
   "cell_type": "code",
   "execution_count": null,
   "metadata": {},
   "outputs": [],
   "source": []
  },
  {
   "cell_type": "code",
   "execution_count": null,
   "metadata": {},
   "outputs": [],
   "source": []
  },
  {
   "cell_type": "markdown",
   "metadata": {},
   "source": [
    "## Summary\n",
    "\n",
    "In this lab, you demonstrated your mastery of using pandas to clean and aggregate data in order to answer several business questions. This included identifying and handling missing values, text requiring preprocessing, and invalid values. You also performed aggregation and reshaping tasks such as transposing, joining, and grouping data. Great job, there was a lot here!"
   ]
  }
 ],
 "metadata": {
  "kernelspec": {
   "display_name": "Python 3 (ipykernel)",
   "language": "python",
   "name": "python3"
  },
  "language_info": {
   "codemirror_mode": {
    "name": "ipython",
    "version": 3
   },
   "file_extension": ".py",
   "mimetype": "text/x-python",
   "name": "python",
   "nbconvert_exporter": "python",
   "pygments_lexer": "ipython3",
   "version": "3.12.7"
  },
  "vscode": {
   "interpreter": {
    "hash": "7525ddc99344d304bee386e4294f627a69ef3ddf90a93199e89e426185c49e1b"
   }
  }
 },
 "nbformat": 4,
 "nbformat_minor": 4
}
